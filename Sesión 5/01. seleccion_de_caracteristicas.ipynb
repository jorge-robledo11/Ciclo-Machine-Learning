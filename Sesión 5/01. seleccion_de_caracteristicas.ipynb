{
 "cells": [
  {
   "cell_type": "markdown",
   "metadata": {},
   "source": [
    "## *01. Selección de características*\n",
    "\n",
    "* La selección de características, también conocida como selección de variables, es un proceso de selección de un subconjunto relevante de características en un conjunto de datos más grande para construir un modelo de aprendizaje automático. El objetivo de la selección de características es reducir la complejidad del modelo, mejorar la precisión y la interpretación de los resultados y reducir el tiempo y los recursos necesarios para entrenar el modelo.\n",
    "\n",
    "* La selección de características es importante porque los modelos de aprendizaje automático pueden tener dificultades para aprender patrones precisos y significativos si se les alimenta con demasiadas características irrelevantes o redundantes. Además, la selección de características puede mejorar la generalización del modelo, lo que significa que el modelo es más capaz de hacer predicciones precisas en nuevos datos que no se han visto antes.\n",
    "\n",
    "* Existen varios métodos para realizar la selección de características, que incluyen:\n",
    "\n",
    "    * Filtros: utilizan una métrica estadística para evaluar la relevancia de cada característica y seleccionan las características con la puntuación más alta.\n",
    "\n",
    "    * Wrapper: utilizan un modelo de aprendizaje automático para evaluar la relevancia de cada característica y seleccionar las características que dan como resultado un mejor rendimiento del modelo.\n",
    "\n",
    "    * Embebidos: integran la selección de características en el proceso de entrenamiento del modelo, lo que permite que el modelo aprenda qué características son las más importantes para el problema.\n",
    "\n",
    "* La selección de características puede ser especialmente útil en problemas de alta dimensionalidad, donde hay muchas características disponibles pero solo algunas son relevantes para el problema en cuestión. Al seleccionar cuidadosamente las características, es posible crear modelos más precisos, interpretables y eficientes."
   ]
  },
  {
   "cell_type": "code",
   "execution_count": 1,
   "metadata": {},
   "outputs": [],
   "source": [
    "# Core\n",
    "import pandas as pd\n",
    "import numpy as np\n",
    "import matplotlib.pyplot as plt\n",
    "import seaborn as sns\n",
    "import empiricaldist\n",
    "import warnings\n",
    "from scipy import stats\n",
    "\n",
    "# Display\n",
    "pd.set_option('display.max_columns', None)\n",
    "pd.options.display.float_format = '{:,.2f}'.format\n",
    "sns.set_theme(context='notebook', style=plt.style.use('dark_background'))\n",
    "warnings.simplefilter('ignore')"
   ]
  },
  {
   "cell_type": "code",
   "execution_count": 2,
   "metadata": {},
   "outputs": [
    {
     "data": {
      "text/html": [
       "<div>\n",
       "<style scoped>\n",
       "    .dataframe tbody tr th:only-of-type {\n",
       "        vertical-align: middle;\n",
       "    }\n",
       "\n",
       "    .dataframe tbody tr th {\n",
       "        vertical-align: top;\n",
       "    }\n",
       "\n",
       "    .dataframe thead th {\n",
       "        text-align: right;\n",
       "    }\n",
       "</style>\n",
       "<table border=\"1\" class=\"dataframe\">\n",
       "  <thead>\n",
       "    <tr style=\"text-align: right;\">\n",
       "      <th></th>\n",
       "      <th>id</th>\n",
       "      <th>fraude</th>\n",
       "      <th>valor</th>\n",
       "      <th>hora_aux</th>\n",
       "      <th>dist_max_nal</th>\n",
       "      <th>canal1</th>\n",
       "      <th>fecha</th>\n",
       "      <th>cod_pais</th>\n",
       "      <th>canal</th>\n",
       "      <th>diasem</th>\n",
       "      <th>diames</th>\n",
       "      <th>fecha_vin</th>\n",
       "      <th>oficina_vin</th>\n",
       "      <th>sexo</th>\n",
       "      <th>segmento</th>\n",
       "      <th>edad</th>\n",
       "      <th>ingresos</th>\n",
       "      <th>egresos</th>\n",
       "      <th>nropaises</th>\n",
       "      <th>nrociudades</th>\n",
       "      <th>dist_mean_nal</th>\n",
       "      <th>dist_hoy</th>\n",
       "      <th>dist_sum_nal</th>\n",
       "    </tr>\n",
       "  </thead>\n",
       "  <tbody>\n",
       "    <tr>\n",
       "      <th>0</th>\n",
       "      <td>9000000001</td>\n",
       "      <td>1</td>\n",
       "      <td>0.00</td>\n",
       "      <td>13</td>\n",
       "      <td>659.13</td>\n",
       "      <td>atm_int</td>\n",
       "      <td>1970-01-01</td>\n",
       "      <td>us</td>\n",
       "      <td>atm_int</td>\n",
       "      <td>5</td>\n",
       "      <td>1</td>\n",
       "      <td>1970-01-01</td>\n",
       "      <td>392.00</td>\n",
       "      <td>m</td>\n",
       "      <td>personal plus</td>\n",
       "      <td>29.00</td>\n",
       "      <td>1,200,000.00</td>\n",
       "      <td>1,200,000.00</td>\n",
       "      <td>1</td>\n",
       "      <td>6</td>\n",
       "      <td>474.94</td>\n",
       "      <td>4,552.41</td>\n",
       "      <td>5,224.36</td>\n",
       "    </tr>\n",
       "    <tr>\n",
       "      <th>1</th>\n",
       "      <td>9000000002</td>\n",
       "      <td>1</td>\n",
       "      <td>0.00</td>\n",
       "      <td>17</td>\n",
       "      <td>594.77</td>\n",
       "      <td>atm_int</td>\n",
       "      <td>1970-01-01</td>\n",
       "      <td>us</td>\n",
       "      <td>atm_int</td>\n",
       "      <td>5</td>\n",
       "      <td>15</td>\n",
       "      <td>1970-01-01</td>\n",
       "      <td>716.00</td>\n",
       "      <td>m</td>\n",
       "      <td>personal plus</td>\n",
       "      <td>29.00</td>\n",
       "      <td>5,643,700.00</td>\n",
       "      <td>500,000.00</td>\n",
       "      <td>1</td>\n",
       "      <td>5</td>\n",
       "      <td>289.99</td>\n",
       "      <td>4,552.41</td>\n",
       "      <td>2,029.90</td>\n",
       "    </tr>\n",
       "    <tr>\n",
       "      <th>2</th>\n",
       "      <td>9000000003</td>\n",
       "      <td>1</td>\n",
       "      <td>0.00</td>\n",
       "      <td>13</td>\n",
       "      <td>659.13</td>\n",
       "      <td>atm_int</td>\n",
       "      <td>1970-01-01</td>\n",
       "      <td>us</td>\n",
       "      <td>atm_int</td>\n",
       "      <td>5</td>\n",
       "      <td>1</td>\n",
       "      <td>1970-01-01</td>\n",
       "      <td>392.00</td>\n",
       "      <td>m</td>\n",
       "      <td>personal plus</td>\n",
       "      <td>29.00</td>\n",
       "      <td>1,200,000.00</td>\n",
       "      <td>1,200,000.00</td>\n",
       "      <td>1</td>\n",
       "      <td>6</td>\n",
       "      <td>474.94</td>\n",
       "      <td>4,552.41</td>\n",
       "      <td>5,224.36</td>\n",
       "    </tr>\n",
       "    <tr>\n",
       "      <th>3</th>\n",
       "      <td>9000000004</td>\n",
       "      <td>1</td>\n",
       "      <td>0.00</td>\n",
       "      <td>13</td>\n",
       "      <td>659.13</td>\n",
       "      <td>atm_int</td>\n",
       "      <td>1970-01-01</td>\n",
       "      <td>us</td>\n",
       "      <td>atm_int</td>\n",
       "      <td>5</td>\n",
       "      <td>1</td>\n",
       "      <td>1970-01-01</td>\n",
       "      <td>392.00</td>\n",
       "      <td>m</td>\n",
       "      <td>personal plus</td>\n",
       "      <td>29.00</td>\n",
       "      <td>1,200,000.00</td>\n",
       "      <td>1,200,000.00</td>\n",
       "      <td>1</td>\n",
       "      <td>6</td>\n",
       "      <td>474.94</td>\n",
       "      <td>4,552.41</td>\n",
       "      <td>5,224.36</td>\n",
       "    </tr>\n",
       "    <tr>\n",
       "      <th>4</th>\n",
       "      <td>9000000005</td>\n",
       "      <td>1</td>\n",
       "      <td>0.00</td>\n",
       "      <td>0</td>\n",
       "      <td>1.00</td>\n",
       "      <td>atm_int</td>\n",
       "      <td>1970-01-01</td>\n",
       "      <td>cr</td>\n",
       "      <td>atm_int</td>\n",
       "      <td>0</td>\n",
       "      <td>10</td>\n",
       "      <td>1970-01-01</td>\n",
       "      <td>788.00</td>\n",
       "      <td>m</td>\n",
       "      <td>personal</td>\n",
       "      <td>25.00</td>\n",
       "      <td>0.00</td>\n",
       "      <td>0.00</td>\n",
       "      <td>1</td>\n",
       "      <td>1</td>\n",
       "      <td>NaN</td>\n",
       "      <td>1,482.35</td>\n",
       "      <td>1.00</td>\n",
       "    </tr>\n",
       "  </tbody>\n",
       "</table>\n",
       "</div>"
      ],
      "text/plain": [
       "           id  fraude  valor  hora_aux  dist_max_nal   canal1      fecha  \\\n",
       "0  9000000001       1   0.00        13        659.13  atm_int 1970-01-01   \n",
       "1  9000000002       1   0.00        17        594.77  atm_int 1970-01-01   \n",
       "2  9000000003       1   0.00        13        659.13  atm_int 1970-01-01   \n",
       "3  9000000004       1   0.00        13        659.13  atm_int 1970-01-01   \n",
       "4  9000000005       1   0.00         0          1.00  atm_int 1970-01-01   \n",
       "\n",
       "  cod_pais    canal  diasem  diames  fecha_vin  oficina_vin sexo  \\\n",
       "0       us  atm_int       5       1 1970-01-01       392.00    m   \n",
       "1       us  atm_int       5      15 1970-01-01       716.00    m   \n",
       "2       us  atm_int       5       1 1970-01-01       392.00    m   \n",
       "3       us  atm_int       5       1 1970-01-01       392.00    m   \n",
       "4       cr  atm_int       0      10 1970-01-01       788.00    m   \n",
       "\n",
       "        segmento  edad     ingresos      egresos  nropaises  nrociudades  \\\n",
       "0  personal plus 29.00 1,200,000.00 1,200,000.00          1            6   \n",
       "1  personal plus 29.00 5,643,700.00   500,000.00          1            5   \n",
       "2  personal plus 29.00 1,200,000.00 1,200,000.00          1            6   \n",
       "3  personal plus 29.00 1,200,000.00 1,200,000.00          1            6   \n",
       "4       personal 25.00         0.00         0.00          1            1   \n",
       "\n",
       "   dist_mean_nal  dist_hoy  dist_sum_nal  \n",
       "0         474.94  4,552.41      5,224.36  \n",
       "1         289.99  4,552.41      2,029.90  \n",
       "2         474.94  4,552.41      5,224.36  \n",
       "3         474.94  4,552.41      5,224.36  \n",
       "4            NaN  1,482.35          1.00  "
      ]
     },
     "execution_count": 2,
     "metadata": {},
     "output_type": "execute_result"
    }
   ],
   "source": [
    "# Lectura de los datos\n",
    "data = pd.read_parquet('../datasets/train_preprocesado.parquet')\n",
    "data.head()"
   ]
  },
  {
   "cell_type": "code",
   "execution_count": 3,
   "metadata": {},
   "outputs": [
    {
     "data": {
      "text/html": [
       "<div>\n",
       "<style scoped>\n",
       "    .dataframe tbody tr th:only-of-type {\n",
       "        vertical-align: middle;\n",
       "    }\n",
       "\n",
       "    .dataframe tbody tr th {\n",
       "        vertical-align: top;\n",
       "    }\n",
       "\n",
       "    .dataframe thead th {\n",
       "        text-align: right;\n",
       "    }\n",
       "</style>\n",
       "<table border=\"1\" class=\"dataframe\">\n",
       "  <thead>\n",
       "    <tr style=\"text-align: right;\">\n",
       "      <th></th>\n",
       "      <th>fraude</th>\n",
       "      <th>valor</th>\n",
       "      <th>hora_aux</th>\n",
       "      <th>dist_max_nal</th>\n",
       "      <th>canal1</th>\n",
       "      <th>cod_pais</th>\n",
       "      <th>canal</th>\n",
       "      <th>diasem</th>\n",
       "      <th>diames</th>\n",
       "      <th>oficina_vin</th>\n",
       "      <th>sexo</th>\n",
       "      <th>segmento</th>\n",
       "      <th>edad</th>\n",
       "      <th>ingresos</th>\n",
       "      <th>egresos</th>\n",
       "      <th>nropaises</th>\n",
       "      <th>nrociudades</th>\n",
       "      <th>dist_mean_nal</th>\n",
       "      <th>dist_hoy</th>\n",
       "      <th>dist_sum_nal</th>\n",
       "    </tr>\n",
       "    <tr>\n",
       "      <th>id</th>\n",
       "      <th></th>\n",
       "      <th></th>\n",
       "      <th></th>\n",
       "      <th></th>\n",
       "      <th></th>\n",
       "      <th></th>\n",
       "      <th></th>\n",
       "      <th></th>\n",
       "      <th></th>\n",
       "      <th></th>\n",
       "      <th></th>\n",
       "      <th></th>\n",
       "      <th></th>\n",
       "      <th></th>\n",
       "      <th></th>\n",
       "      <th></th>\n",
       "      <th></th>\n",
       "      <th></th>\n",
       "      <th></th>\n",
       "      <th></th>\n",
       "    </tr>\n",
       "  </thead>\n",
       "  <tbody>\n",
       "    <tr>\n",
       "      <th>9000000001</th>\n",
       "      <td>1</td>\n",
       "      <td>0.00</td>\n",
       "      <td>13</td>\n",
       "      <td>659.13</td>\n",
       "      <td>atm_int</td>\n",
       "      <td>us</td>\n",
       "      <td>atm_int</td>\n",
       "      <td>5</td>\n",
       "      <td>1</td>\n",
       "      <td>392.00</td>\n",
       "      <td>m</td>\n",
       "      <td>personal plus</td>\n",
       "      <td>29.00</td>\n",
       "      <td>1,200,000.00</td>\n",
       "      <td>1,200,000.00</td>\n",
       "      <td>1</td>\n",
       "      <td>6</td>\n",
       "      <td>474.94</td>\n",
       "      <td>4,552.41</td>\n",
       "      <td>5,224.36</td>\n",
       "    </tr>\n",
       "    <tr>\n",
       "      <th>9000000002</th>\n",
       "      <td>1</td>\n",
       "      <td>0.00</td>\n",
       "      <td>17</td>\n",
       "      <td>594.77</td>\n",
       "      <td>atm_int</td>\n",
       "      <td>us</td>\n",
       "      <td>atm_int</td>\n",
       "      <td>5</td>\n",
       "      <td>15</td>\n",
       "      <td>716.00</td>\n",
       "      <td>m</td>\n",
       "      <td>personal plus</td>\n",
       "      <td>29.00</td>\n",
       "      <td>5,643,700.00</td>\n",
       "      <td>500,000.00</td>\n",
       "      <td>1</td>\n",
       "      <td>5</td>\n",
       "      <td>289.99</td>\n",
       "      <td>4,552.41</td>\n",
       "      <td>2,029.90</td>\n",
       "    </tr>\n",
       "    <tr>\n",
       "      <th>9000000003</th>\n",
       "      <td>1</td>\n",
       "      <td>0.00</td>\n",
       "      <td>13</td>\n",
       "      <td>659.13</td>\n",
       "      <td>atm_int</td>\n",
       "      <td>us</td>\n",
       "      <td>atm_int</td>\n",
       "      <td>5</td>\n",
       "      <td>1</td>\n",
       "      <td>392.00</td>\n",
       "      <td>m</td>\n",
       "      <td>personal plus</td>\n",
       "      <td>29.00</td>\n",
       "      <td>1,200,000.00</td>\n",
       "      <td>1,200,000.00</td>\n",
       "      <td>1</td>\n",
       "      <td>6</td>\n",
       "      <td>474.94</td>\n",
       "      <td>4,552.41</td>\n",
       "      <td>5,224.36</td>\n",
       "    </tr>\n",
       "    <tr>\n",
       "      <th>9000000004</th>\n",
       "      <td>1</td>\n",
       "      <td>0.00</td>\n",
       "      <td>13</td>\n",
       "      <td>659.13</td>\n",
       "      <td>atm_int</td>\n",
       "      <td>us</td>\n",
       "      <td>atm_int</td>\n",
       "      <td>5</td>\n",
       "      <td>1</td>\n",
       "      <td>392.00</td>\n",
       "      <td>m</td>\n",
       "      <td>personal plus</td>\n",
       "      <td>29.00</td>\n",
       "      <td>1,200,000.00</td>\n",
       "      <td>1,200,000.00</td>\n",
       "      <td>1</td>\n",
       "      <td>6</td>\n",
       "      <td>474.94</td>\n",
       "      <td>4,552.41</td>\n",
       "      <td>5,224.36</td>\n",
       "    </tr>\n",
       "    <tr>\n",
       "      <th>9000000005</th>\n",
       "      <td>1</td>\n",
       "      <td>0.00</td>\n",
       "      <td>0</td>\n",
       "      <td>1.00</td>\n",
       "      <td>atm_int</td>\n",
       "      <td>cr</td>\n",
       "      <td>atm_int</td>\n",
       "      <td>0</td>\n",
       "      <td>10</td>\n",
       "      <td>788.00</td>\n",
       "      <td>m</td>\n",
       "      <td>personal</td>\n",
       "      <td>25.00</td>\n",
       "      <td>0.00</td>\n",
       "      <td>0.00</td>\n",
       "      <td>1</td>\n",
       "      <td>1</td>\n",
       "      <td>NaN</td>\n",
       "      <td>1,482.35</td>\n",
       "      <td>1.00</td>\n",
       "    </tr>\n",
       "  </tbody>\n",
       "</table>\n",
       "</div>"
      ],
      "text/plain": [
       "            fraude  valor  hora_aux  dist_max_nal   canal1 cod_pais    canal  \\\n",
       "id                                                                             \n",
       "9000000001       1   0.00        13        659.13  atm_int       us  atm_int   \n",
       "9000000002       1   0.00        17        594.77  atm_int       us  atm_int   \n",
       "9000000003       1   0.00        13        659.13  atm_int       us  atm_int   \n",
       "9000000004       1   0.00        13        659.13  atm_int       us  atm_int   \n",
       "9000000005       1   0.00         0          1.00  atm_int       cr  atm_int   \n",
       "\n",
       "            diasem  diames  oficina_vin sexo       segmento  edad  \\\n",
       "id                                                                  \n",
       "9000000001       5       1       392.00    m  personal plus 29.00   \n",
       "9000000002       5      15       716.00    m  personal plus 29.00   \n",
       "9000000003       5       1       392.00    m  personal plus 29.00   \n",
       "9000000004       5       1       392.00    m  personal plus 29.00   \n",
       "9000000005       0      10       788.00    m       personal 25.00   \n",
       "\n",
       "               ingresos      egresos  nropaises  nrociudades  dist_mean_nal  \\\n",
       "id                                                                            \n",
       "9000000001 1,200,000.00 1,200,000.00          1            6         474.94   \n",
       "9000000002 5,643,700.00   500,000.00          1            5         289.99   \n",
       "9000000003 1,200,000.00 1,200,000.00          1            6         474.94   \n",
       "9000000004 1,200,000.00 1,200,000.00          1            6         474.94   \n",
       "9000000005         0.00         0.00          1            1            NaN   \n",
       "\n",
       "            dist_hoy  dist_sum_nal  \n",
       "id                                  \n",
       "9000000001  4,552.41      5,224.36  \n",
       "9000000002  4,552.41      2,029.90  \n",
       "9000000003  4,552.41      5,224.36  \n",
       "9000000004  4,552.41      5,224.36  \n",
       "9000000005  1,482.35          1.00  "
      ]
     },
     "execution_count": 3,
     "metadata": {},
     "output_type": "execute_result"
    }
   ],
   "source": [
    "# Transponemos los índices\n",
    "data.index = data['id']\n",
    "\n",
    "# Nos deshacemos de las variables que no aportan\n",
    "data.drop(['id', 'fecha', 'fecha_vin'], inplace=True, axis=1)\n",
    "data.head()"
   ]
  },
  {
   "cell_type": "markdown",
   "metadata": {},
   "source": [
    "### *Separar*"
   ]
  },
  {
   "cell_type": "code",
   "execution_count": 4,
   "metadata": {},
   "outputs": [
    {
     "name": "stdout",
     "output_type": "stream",
     "text": [
      "80% Train set: ((2368, 19), (2368,))\n",
      "20% Validation set: ((592, 19), (592,))\n"
     ]
    }
   ],
   "source": [
    "from sklearn.model_selection import train_test_split\n",
    "\n",
    "# Separamos los features y el target\n",
    "X = data.loc[:, data.columns != 'fraude']\n",
    "y = data.loc[:, data.columns == 'fraude'].squeeze()\n",
    "\n",
    "# Splitting\n",
    "X_train, X_val, y_train, y_val = train_test_split(X, y, train_size=0.80, test_size=0.20, random_state=25)\n",
    "print(f'80% Train set: {X_train.shape, y_train.shape}')\n",
    "print(f'20% Validation set: {X_val.shape, y_val.shape}')"
   ]
  },
  {
   "cell_type": "markdown",
   "metadata": {},
   "source": [
    "### *Capturar*"
   ]
  },
  {
   "cell_type": "code",
   "execution_count": 5,
   "metadata": {},
   "outputs": [
    {
     "name": "stdout",
     "output_type": "stream",
     "text": [
      "\t\tTipos de variables\n",
      "Hay 12 variables continuas\n",
      "Hay 2 variables discretas\n",
      "Hay 0 variables temporales\n",
      "Hay 5 variables categóricas\n"
     ]
    }
   ],
   "source": [
    "# Función para capturar los tipos de variables\n",
    "def capture_variables(data:pd.DataFrame) -> tuple:\n",
    "    \n",
    "    \"\"\"\n",
    "    Function to capture the types of Dataframe variables\n",
    "\n",
    "    Args:\n",
    "        dataframe: DataFrame\n",
    "    \n",
    "    Return:\n",
    "        variables: tuple\n",
    "    \n",
    "    The order to unpack variables:\n",
    "    1. continuous\n",
    "    2. categoricals\n",
    "    3. discretes\n",
    "    4. temporaries\n",
    "    \"\"\"\n",
    "\n",
    "    numericals = list(data.select_dtypes(include = [np.int64, np.int32, np.float64, np.float32]).columns)\n",
    "    categoricals = list(data.select_dtypes(include = ['category', 'object', 'bool']).columns)\n",
    "    temporaries = list(data.select_dtypes(include = ['datetime', 'timedelta']).columns)\n",
    "    discretes = [col for col in data[numericals] if len(data[numericals][col].unique()) <= 10]\n",
    "    continuous = [col for col in data[numericals] if col not in discretes]\n",
    "\n",
    "    # Variables\n",
    "    print('\\t\\tTipos de variables')\n",
    "    print(f'Hay {len(continuous)} variables continuas')\n",
    "    print(f'Hay {len(discretes)} variables discretas')\n",
    "    print(f'Hay {len(temporaries)} variables temporales')\n",
    "    print(f'Hay {len(categoricals)} variables categóricas')\n",
    "\n",
    "    variables = tuple((continuous, categoricals, discretes, temporaries))\n",
    "    \n",
    "    # Retornamos una tupla de listas\n",
    "    return variables\n",
    "\n",
    "\n",
    "# Captura de variables\n",
    "continuous, categoricals, discretes, temporaries = capture_variables(data=X)"
   ]
  },
  {
   "cell_type": "markdown",
   "metadata": {},
   "source": [
    "### *Constantes*\n",
    "Las características constantes son aquellas que muestran el mismo valor, un único valor, para todas las observaciones del conjunto de datos. \n",
    "\n",
    "En otras palabras, el mismo valor para todas las filas del conjunto de datos. Estas características no proporcionan ninguna información que permita a un modelo de aprendizaje automático discriminar o predecir un objetivo."
   ]
  },
  {
   "cell_type": "code",
   "execution_count": 6,
   "metadata": {},
   "outputs": [
    {
     "data": {
      "text/plain": [
       "0"
      ]
     },
     "execution_count": 6,
     "metadata": {},
     "output_type": "execute_result"
    }
   ],
   "source": [
    "# Podemos encontrar las variables/características constantes con una comprensión de lista\n",
    "constant_features_continuous = [feat for feat in X_train[continuous].columns if X_train[continuous][feat].std() == 0]\n",
    "len(constant_features_continuous)"
   ]
  },
  {
   "cell_type": "code",
   "execution_count": 7,
   "metadata": {},
   "outputs": [
    {
     "data": {
      "text/plain": [
       "0"
      ]
     },
     "execution_count": 7,
     "metadata": {},
     "output_type": "execute_result"
    }
   ],
   "source": [
    "# Podemos hallar las variables/características que solo tienen una etiqueta con la siguiente comprensión de lista\n",
    "constant_features_categoricals = [feat for feat in X_train[categoricals].columns if X_train[categoricals][feat].nunique(dropna=False) == 1]\n",
    "len(constant_features_categoricals)"
   ]
  },
  {
   "cell_type": "code",
   "execution_count": 8,
   "metadata": {},
   "outputs": [
    {
     "data": {
      "text/plain": [
       "0"
      ]
     },
     "execution_count": 8,
     "metadata": {},
     "output_type": "execute_result"
    }
   ],
   "source": [
    "# Podemos hallar las variables/características que solo tienen una etiqueta con la siguiente comprensión de lista\n",
    "X_train[discretes] = X_train[discretes].astype('category')\n",
    "X_val[discretes] = X_val[discretes].astype('category')\n",
    "\n",
    "constant_features_discretes = [feat for feat in X_train[discretes].columns if X_train[discretes][feat].nunique(dropna=False) == 1]\n",
    "len(constant_features_discretes)"
   ]
  },
  {
   "cell_type": "markdown",
   "metadata": {},
   "source": [
    "### *Cuasi-constantes*\n",
    "Las características cuasi constantes son aquellas que muestran el mismo valor para la gran mayoría de las observaciones del conjunto de datos.\n",
    "\n",
    "En general, estas características aportan poca o nula información que permita a un modelo de aprendizaje automático discriminar o predecir un objetivo, aunque puede haber excepciones. Por lo tanto, hay que tener cuidado al eliminar este tipo de características."
   ]
  },
  {
   "cell_type": "code",
   "execution_count": 9,
   "metadata": {},
   "outputs": [
    {
     "name": "stdout",
     "output_type": "stream",
     "text": [
      "Features cuasi-constantes: 0\n"
     ]
    }
   ],
   "source": [
    "# Crear una lista vacía\n",
    "quasi_constant_feat = list()\n",
    "\n",
    "# Iterar sobre cada característica\n",
    "for feature in X_train[continuous].columns:\n",
    "    # Encontrar el valor predominante, es decir, el valor compartido por la mayoría de las observaciones\n",
    "    predominant = (X_train[continuous][feature].value_counts() / float(len(X_train[continuous]))).sort_values(ascending=False).values[0]\n",
    "    # Evaluar la característica predominante: ¿Más del 99% de las observaciones muestran 1 valor?\n",
    "    if predominant > 0.998:\n",
    "        # En caso afirmativo, añada la característica a la lista\n",
    "        quasi_constant_feat.append(feature)\n",
    "\n",
    "# Resultado\n",
    "print(f'Features cuasi-constantes: {len(quasi_constant_feat)}')"
   ]
  },
  {
   "cell_type": "markdown",
   "metadata": {},
   "source": [
    "### *Duplicadas*\n",
    "A menudo, los conjuntos de datos contienen características duplicadas, es decir, características que, a pesar de tener nombres diferentes, son idénticas.\n",
    "\n",
    "Identificar y eliminar características duplicadas, por tanto, redundantes, es un primer paso sencillo hacia la selección de características y modelos de aprendizaje automático más interpretables."
   ]
  },
  {
   "cell_type": "code",
   "execution_count": 10,
   "metadata": {},
   "outputs": [
    {
     "name": "stdout",
     "output_type": "stream",
     "text": [
      "Features duplicados: 0\n"
     ]
    }
   ],
   "source": [
    "# Comprobar si hay características duplicadas en el conjunto de entrenamiento:\n",
    "\n",
    "# Crear una lista vacía para recoger las características que se han encontrado duplicadas\n",
    "duplicated_features = list()\n",
    "\n",
    "# Crear un diccionario vacío, donde almacenaremos los grupos de duplicados\n",
    "duplicated_feat_pairs = dict()\n",
    "\n",
    "# Iterar sobre cada característica de nuestro conjunto de datos:\n",
    "for i in range(len(X_train.columns)):\n",
    "    \n",
    "    # Elige 1 característica:\n",
    "    feat_1 = X_train.columns[i]\n",
    "    \n",
    "    # Si esta característica ya fue identificada como duplicada, la omitimos, si aún \n",
    "    # no ha sido identificada como duplicada, entonces procedemos:\n",
    "    if feat_1 not in duplicated_features:\n",
    "    \n",
    "        # Creamos una lista vacía como entrada para esta función en el diccionario:\n",
    "        duplicated_feat_pairs[feat_1] = list()\n",
    "\n",
    "        # Ahora, iteramos sobre las características restantes del conjunto de datos\n",
    "        for feat_2 in X_train.columns[i + 1:]:\n",
    "\n",
    "            # Comprobamos si esta segunda característica es idéntica a la primera\n",
    "            if X_train[feat_1].equals(X_train[feat_2]):\n",
    "\n",
    "                # Si es idéntica, añádela a la lista del diccionario\n",
    "                duplicated_feat_pairs[feat_1].append(feat_2)\n",
    "                \n",
    "                # Y añadela a nuestra lista de control de variables duplicadas\n",
    "                duplicated_features.append(feat_2)\n",
    "                \n",
    "# Resultado\n",
    "print(f'Features duplicados: {len(duplicated_features)}')"
   ]
  },
  {
   "cell_type": "markdown",
   "metadata": {},
   "source": [
    "### *Correlacionadas*\n",
    "La selección de características correlacionadas evalúa subconjuntos de características basándose en la siguiente hipótesis:\n",
    "\n",
    "> \"Los buenos subconjuntos de características contienen características altamente correlacionadas con el objetivo, pero no correlacionadas entre sí\".\n",
    "\n",
    "La **correlación** puede generar problemas en el modelo y hacer que las predicciones sean menos precisas o incluso erróneas. Por lo tanto, es importante evitar la **correlación** en el aprendizaje automático para mejorar la precisión y estabilidad del modelo, facilitar la interpretación de los resultados y mejorar la capacidad de generalización del modelo."
   ]
  },
  {
   "cell_type": "code",
   "execution_count": 11,
   "metadata": {},
   "outputs": [
    {
     "name": "stdout",
     "output_type": "stream",
     "text": [
      "Features correlacionados: set()\n"
     ]
    }
   ],
   "source": [
    "# Con la siguiente función podemos seleccionar características altamente correlacionadas se eliminará la primera característica \n",
    "# que se correlaciona con cualquier otra cosa sin ninguna otra percepción.\n",
    "def correlation(dataset, threshold):\n",
    "    \n",
    "    # Crear un conjunto \"set\" donde se almacenarán los nombres de las columnas correlacionadas\n",
    "    col_corr = set()\n",
    "    \n",
    "    # Crear la matrix de correlación\n",
    "    corr_matrix = dataset.corr()\n",
    "    \n",
    "    # Para cada característica del conjunto de datos (columnas de la matriz de correlaciones)\n",
    "    for i in range(len(corr_matrix.columns)):  \n",
    "        # Comprobar con otras características\n",
    "        for j in range(i): \n",
    "            # Si la correlación es superior a un determinado umbral\n",
    "            if abs(corr_matrix.iloc[i, j]) > threshold: # Nos interesa el valor absoluto\n",
    "                abs(corr_matrix.iloc[i, j]), corr_matrix.columns[i], corr_matrix.columns[j]\n",
    "                # Obtenemos el nombre de la característica correlacionada\n",
    "                colname = corr_matrix.columns[j]\n",
    "                # Finalmente agregamos la característica al conjunto\n",
    "                col_corr.add(colname)\n",
    "                \n",
    "    return col_corr\n",
    "\n",
    "\n",
    "# Llamamos a la función\n",
    "corr_features = correlation(dataset=X_train, threshold=0.75)\n",
    "print(f'Features correlacionados: {corr_features}')"
   ]
  },
  {
   "cell_type": "markdown",
   "metadata": {},
   "source": [
    "### *Test-Chi²*\n",
    "* El test de Chi² se utiliza para probar una hipótesis como \"La variable A está relacionada con la variable B\" ó \"No hay relación entre la variable A y la variable B\".\n",
    "\n",
    "* La significancia del test se mide por el nivel de confianza o el valor *p*, que indica la probabilidad de obtener el resultado observado por azar si no hay relación entre las variables."
   ]
  },
  {
   "cell_type": "code",
   "execution_count": 12,
   "metadata": {},
   "outputs": [],
   "source": [
    "from sklearn.pipeline import Pipeline\n",
    "from feature_engine.selection import DropConstantFeatures\n",
    "from feature_engine.selection import DropDuplicateFeatures\n",
    "from feature_engine.selection import SmartCorrelatedSelection\n",
    "from sklearn.feature_selection import chi2\n",
    "from sklearn.feature_selection import SelectKBest\n",
    "\n",
    "# Hacemos lectura de los subsets\n",
    "X_train = pd.read_parquet('../datasets/subsets/X_train.parquet')\n",
    "X_val = pd.read_parquet('../datasets/subsets/X_val.parquet')\n",
    "\n",
    "# Creamos unas copias para hacer pruebas más adelante\n",
    "X_train_original = X_train.copy()\n",
    "X_val_original = X_val.copy()"
   ]
  },
  {
   "cell_type": "markdown",
   "metadata": {},
   "source": [
    "### *Pipeline*\n",
    "* En el aprendizaje automático (Machine Learning), una pipeline se refiere a una secuencia de pasos que se utilizan para procesar, transformar los datos y construir un modelo predictivo.\n",
    "\n",
    "* La utilización de pipelines en el aprendizaje automático ayuda a automatizar y simplificar el proceso de construcción de modelos, lo que a su vez puede reducir los errores y el tiempo necesario para implementar un modelo. Además, también facilita la reproducción de los resultados y la comparación de diferentes modelos y técnicas de preprocesamiento de datos."
   ]
  },
  {
   "cell_type": "code",
   "execution_count": 13,
   "metadata": {},
   "outputs": [
    {
     "data": {
      "text/plain": [
       "((2368, 19), (592, 19))"
      ]
     },
     "execution_count": 13,
     "metadata": {},
     "output_type": "execute_result"
    }
   ],
   "source": [
    "# Apilamos todos los métodos de selección dentro de una Pipeline\n",
    "pipe = Pipeline([\n",
    "    ('constant', DropConstantFeatures(tol=0.998)),\n",
    "    ('duplicated', DropDuplicateFeatures()),\n",
    "    ('correlation', SmartCorrelatedSelection(method='pearson', cv=5)),\n",
    "])\n",
    "pipe.fit(X_train)\n",
    "\n",
    "# Removemos los features\n",
    "X_train = pipe.transform(X_train)\n",
    "X_val = pipe.transform(X_val)\n",
    "\n",
    "X_train.shape, X_val.shape"
   ]
  },
  {
   "cell_type": "code",
   "execution_count": 14,
   "metadata": {},
   "outputs": [
    {
     "name": "stdout",
     "output_type": "stream",
     "text": [
      "\tResultados de las trasnformaciones\n",
      "• Features constantes y cuasi-constantes: []\n",
      "• Features duplicados: set()\n",
      "• Features correlacionados: ['canal']\n"
     ]
    }
   ],
   "source": [
    "# Resultados de las transformaciones en la Pipeline\n",
    "print(f\"\"\"\\tResultados de las trasnformaciones\n",
    "• Features constantes y cuasi-constantes: {pipe.named_steps['constant'].features_to_drop_}\n",
    "• Features duplicados: {pipe.named_steps['duplicated'].features_to_drop_}\n",
    "• Features correlacionados: {pipe.named_steps['correlation'].features_to_drop_}\"\"\")"
   ]
  },
  {
   "cell_type": "markdown",
   "metadata": {},
   "source": [
    "### *p-value*\n",
    "\n",
    "* El *p-value* (valor p) es una medida estadística que se utiliza para evaluar el nivel de significancia de un resultado en un test de hipótesis. En general, se usa para determinar si la evidencia observada en los datos proporciona una base suficiente para rechazar o no la hipótesis nula.\n",
    "\n",
    "* En un test de hipótesis, la hipótesis nula es la afirmación que se está tratando de refutar y la hipótesis alternativa es la afirmación que se está tratando de probar. El *p-value* representa la probabilidad de obtener un resultado igual o más extremo que el observado, asumiendo que la hipótesis nula es verdadera. En otras palabras, es la probabilidad de que el resultado sea un efecto aleatorio o casualidad.\n",
    "\n",
    "* El *p-value* se expresa como un número entre 0 y 1, y se interpreta como la probabilidad de obtener el resultado observado si la hipótesis nula es verdadera. Si el *p-value* es menor que el nivel de significancia predefinido (generalmente 0.05), se rechaza la hipótesis nula y se acepta la hipótesis alternativa. Si el *p-value* es mayor que el nivel de significancia, no se rechaza la hipótesis nula y se concluye que no hay evidencia suficiente para afirmar que la hipótesis alternativa es verdadera.\n",
    "\n",
    "En resumen, el *p-value* es una medida estadística importante que se utiliza para evaluar la significación de un resultado en un test de hipótesis y determinar si la hipótesis nula debe ser rechazada o no."
   ]
  },
  {
   "cell_type": "code",
   "execution_count": 15,
   "metadata": {},
   "outputs": [
    {
     "data": {
      "text/html": [
       "<div>\n",
       "<style scoped>\n",
       "    .dataframe tbody tr th:only-of-type {\n",
       "        vertical-align: middle;\n",
       "    }\n",
       "\n",
       "    .dataframe tbody tr th {\n",
       "        vertical-align: top;\n",
       "    }\n",
       "\n",
       "    .dataframe thead th {\n",
       "        text-align: right;\n",
       "    }\n",
       "</style>\n",
       "<table border=\"1\" class=\"dataframe\">\n",
       "  <thead>\n",
       "    <tr style=\"text-align: right;\">\n",
       "      <th></th>\n",
       "      <th>p-value</th>\n",
       "    </tr>\n",
       "  </thead>\n",
       "  <tbody>\n",
       "    <tr>\n",
       "      <th>canal1</th>\n",
       "      <td>0.00</td>\n",
       "    </tr>\n",
       "    <tr>\n",
       "      <th>valor</th>\n",
       "      <td>0.00</td>\n",
       "    </tr>\n",
       "    <tr>\n",
       "      <th>ingresos</th>\n",
       "      <td>0.00</td>\n",
       "    </tr>\n",
       "    <tr>\n",
       "      <th>diames</th>\n",
       "      <td>0.00</td>\n",
       "    </tr>\n",
       "    <tr>\n",
       "      <th>edad</th>\n",
       "      <td>0.00</td>\n",
       "    </tr>\n",
       "    <tr>\n",
       "      <th>dist_mean_nal</th>\n",
       "      <td>0.00</td>\n",
       "    </tr>\n",
       "    <tr>\n",
       "      <th>cod_pais</th>\n",
       "      <td>0.00</td>\n",
       "    </tr>\n",
       "    <tr>\n",
       "      <th>egresos</th>\n",
       "      <td>0.00</td>\n",
       "    </tr>\n",
       "    <tr>\n",
       "      <th>dist_hoy</th>\n",
       "      <td>0.00</td>\n",
       "    </tr>\n",
       "    <tr>\n",
       "      <th>hora_aux</th>\n",
       "      <td>0.00</td>\n",
       "    </tr>\n",
       "    <tr>\n",
       "      <th>dist_sum_nal</th>\n",
       "      <td>0.00</td>\n",
       "    </tr>\n",
       "    <tr>\n",
       "      <th>diasem</th>\n",
       "      <td>0.00</td>\n",
       "    </tr>\n",
       "    <tr>\n",
       "      <th>oficina_vin</th>\n",
       "      <td>0.00</td>\n",
       "    </tr>\n",
       "    <tr>\n",
       "      <th>segmento</th>\n",
       "      <td>0.00</td>\n",
       "    </tr>\n",
       "    <tr>\n",
       "      <th>dist_max_nal</th>\n",
       "      <td>0.00</td>\n",
       "    </tr>\n",
       "    <tr>\n",
       "      <th>nrociudades</th>\n",
       "      <td>0.00</td>\n",
       "    </tr>\n",
       "    <tr>\n",
       "      <th>dist_mean_nal_NA</th>\n",
       "      <td>0.00</td>\n",
       "    </tr>\n",
       "    <tr>\n",
       "      <th>nropaises</th>\n",
       "      <td>0.00</td>\n",
       "    </tr>\n",
       "    <tr>\n",
       "      <th>sexo</th>\n",
       "      <td>0.04</td>\n",
       "    </tr>\n",
       "  </tbody>\n",
       "</table>\n",
       "</div>"
      ],
      "text/plain": [
       "                  p-value\n",
       "canal1               0.00\n",
       "valor                0.00\n",
       "ingresos             0.00\n",
       "diames               0.00\n",
       "edad                 0.00\n",
       "dist_mean_nal        0.00\n",
       "cod_pais             0.00\n",
       "egresos              0.00\n",
       "dist_hoy             0.00\n",
       "hora_aux             0.00\n",
       "dist_sum_nal         0.00\n",
       "diasem               0.00\n",
       "oficina_vin          0.00\n",
       "segmento             0.00\n",
       "dist_max_nal         0.00\n",
       "nrociudades          0.00\n",
       "dist_mean_nal_NA     0.00\n",
       "nropaises            0.00\n",
       "sexo                 0.04"
      ]
     },
     "execution_count": 15,
     "metadata": {},
     "output_type": "execute_result"
    }
   ],
   "source": [
    "# Obtenemos los p-values\n",
    "pvalues = pd.DataFrame(chi2(X_train, y_train)[1], columns=['p-value'])\n",
    "pvalues.index = X_train.columns\n",
    "pvalues.sort_values(ascending=True, by='p-value', inplace=True)\n",
    "pvalues"
   ]
  },
  {
   "cell_type": "code",
   "execution_count": 16,
   "metadata": {},
   "outputs": [
    {
     "data": {
      "image/png": "[encoded data removed]",
      "text/plain": [
       "<Figure size 1200x500 with 1 Axes>"
      ]
     },
     "metadata": {},
     "output_type": "display_data"
    }
   ],
   "source": [
    "# Gráficamente\n",
    "pvalues.columns = ['']\n",
    "fig, ax = plt.subplots(figsize=(12, 5))\n",
    "pvalues.plot.bar(rot=45, color='royalblue', alpha=0.7, lw=1, edgecolor='white', ax=ax)\n",
    "plt.title('Importancia de las características basada en la prueba de p-value\\n')\n",
    "plt.axhline(y=0.05, color='#E51A4C', linestyle='dashed', linewidth=1.5, label='p-value')\n",
    "plt.ylabel('P-value')\n",
    "plt.legend(loc='center left')\n",
    "plt.tight_layout()"
   ]
  },
  {
   "cell_type": "code",
   "execution_count": 17,
   "metadata": {},
   "outputs": [
    {
     "data": {
      "text/plain": [
       "['valor', 'canal1', 'diames', 'edad', 'ingresos', 'dist_mean_nal']"
      ]
     },
     "execution_count": 17,
     "metadata": {},
     "output_type": "execute_result"
    }
   ],
   "source": [
    "# Seleccionar un \"k\" número de variables de manera arbitraria\n",
    "sel_ = SelectKBest(chi2, k=6)\n",
    "sel_.fit(X_train, y_train)\n",
    "\n",
    "# Variables que conservamos\n",
    "headers = list(X_train.columns[sel_.get_support()])\n",
    "headers"
   ]
  },
  {
   "cell_type": "code",
   "execution_count": 18,
   "metadata": {},
   "outputs": [],
   "source": [
    "# Removemos el restante de features\n",
    "X_train_chi2 = pd.DataFrame(sel_.transform(X_train), columns=headers, index=X_train.index)\n",
    "X_val_chi2 = pd.DataFrame(sel_.transform(X_val), columns=headers, index=X_val.index)"
   ]
  },
  {
   "cell_type": "markdown",
   "metadata": {},
   "source": [
    "### *Métrica univariada*\n",
    "Esta técnica funciona de la siguiente manera:\n",
    "\n",
    "* Primero, se construye un árbol de decisión por característica, para predecir el objetivo (target).\n",
    "* En segundo lugar, se realiza predicciones utilizando el árbol de decisión y la característica seleccionada.\n",
    "* En tercer lugar, mide el rendimiento de la predicción, basado en una métrica, ya sea el roc-auc, el mse o cualquier otra métrica.\n",
    "* En cuarto lugar, se clasifica las características según la métrica de aprendizaje automático.\n",
    "* Finalente seleccionar las características con mejor rendimiento."
   ]
  },
  {
   "cell_type": "code",
   "execution_count": 19,
   "metadata": {},
   "outputs": [
    {
     "data": {
      "text/plain": [
       "((2368, 19), (592, 19))"
      ]
     },
     "execution_count": 19,
     "metadata": {},
     "output_type": "execute_result"
    }
   ],
   "source": [
    "# Traemos de regreso nuestros datasets originales\n",
    "X_train = X_train_original.copy()\n",
    "X_val = X_val_original.copy()\n",
    "\n",
    "# Apilamos todos los métodos de selección dentro de una Pipeline\n",
    "pipe = Pipeline([\n",
    "    ('constant', DropConstantFeatures(tol=0.998)),\n",
    "    ('duplicated', DropDuplicateFeatures()),\n",
    "    ('correlation', SmartCorrelatedSelection(method='pearson', cv=5)),\n",
    "])\n",
    "pipe.fit(X_train)\n",
    "\n",
    "# Removemos los features\n",
    "X_train = pipe.transform(X_train)\n",
    "X_val = pipe.transform(X_val)\n",
    "\n",
    "X_train.shape, X_val.shape"
   ]
  },
  {
   "cell_type": "markdown",
   "metadata": {},
   "source": [
    "### *ROC-AUC*\n",
    "* La métrica ROC-AUC (Receiver Operating Characteristic - Area Under the Curve) se utiliza comúnmente en el aprendizaje automático para evaluar la calidad de los modelos de clasificación binaria.\n",
    "\n",
    "* La curva ROC es una representación gráfica del rendimiento de un modelo de clasificación binaria que muestra la tasa de verdaderos positivos (sensibilidad) frente a la tasa de falsos positivos (1 - especificidad) para diferentes umbrales de decisión. El área bajo la curva ROC (AUC) se utiliza como medida de la capacidad de discriminación del modelo, es decir, la capacidad del modelo para distinguir entre las clases positiva y negativa.\n",
    "\n",
    "* La métrica ROC-AUC es útil porque no se ve afectada por el desequilibrio de clases en los datos, lo que significa que se puede utilizar en conjuntos de datos donde una clase es mucho más común que la otra. Además, la curva ROC y el valor de AUC son útiles para comparar diferentes modelos y ajustar los umbrales de decisión para encontrar un equilibrio entre la tasa de verdaderos positivos y la tasa de falsos positivos que sea adecuado para el problema en cuestión."
   ]
  },
  {
   "cell_type": "code",
   "execution_count": 20,
   "metadata": {},
   "outputs": [
    {
     "name": "stdout",
     "output_type": "stream",
     "text": [
      "Número de roc-auc: 19\n",
      "[0.6731309808612439, 0.5392494019138756, 0.539361543062201, 0.7438995215311004, 0.5829545454545454, 0.5538726076555024, 0.6448041267942584, 0.5987141148325359, 0.5519437799043062, 0.5485122607655503, 0.5737888755980861, 0.6400493421052632, 0.5548818779904306, 0.6286558014354067, 0.6192808014354068, 0.5258373205741627, 0.6413651315789474, 0.5352870813397128, 0.5904680023923445]\n"
     ]
    }
   ],
   "source": [
    "from sklearn.tree import DecisionTreeClassifier\n",
    "from sklearn.metrics import roc_auc_score\n",
    "\n",
    "# Determinar el roc-auc para cada característica\n",
    "# Aquí almacenamos los resultados de la métrica\n",
    "roc_values = list()\n",
    "\n",
    "# Iteramos sobre cada característica del conjunto de datos\n",
    "for feature in X_train.columns:\n",
    "    # Entrenar un clasificador de árbol de decisión\n",
    "    clf = DecisionTreeClassifier(random_state=42)\n",
    "    clf.fit(X_train[feature].to_frame(), y_train)\n",
    "    # Obtener las predicciones\n",
    "    y_pred = clf.predict_proba(X_val[feature].to_frame())\n",
    "    # Calcular y almacenar el roc-auc\n",
    "    roc_values.append(roc_auc_score(y_val, y_pred[:, 1]))\n",
    "    \n",
    "print(f'Número de roc-auc: {len(roc_values)}')\n",
    "print(roc_values)"
   ]
  },
  {
   "cell_type": "code",
   "execution_count": 21,
   "metadata": {},
   "outputs": [
    {
     "data": {
      "image/png": "[encoded data removed]",
      "text/plain": [
       "<Figure size 1200x500 with 1 Axes>"
      ]
     },
     "metadata": {},
     "output_type": "display_data"
    }
   ],
   "source": [
    "# 1) Capturamos los valores roc-auc en una serie de pandas\n",
    "# 2) Agregamos los nombres de las variables en el índice\n",
    "# 3) Ordenamos las características en función de la roc-auc\n",
    "# 4) Finalmente graficamos\n",
    "\n",
    "roc_values = pd.Series(roc_values)\n",
    "roc_values.index = X_train.columns\n",
    "roc_values.sort_values(ascending=False).plot.bar(figsize=(12, 5), rot=45, color='lightgray', alpha=0.7, lw=1, edgecolor='white')\n",
    "plt.title('Importancia de las características basado en el rendimiento univariado\\n')\n",
    "plt.ylabel('ROC-AUC', fontsize=10)\n",
    "plt.axhline(y=np.mean(roc_values), color='#E51A4C', linestyle='dashed', linewidth=1.5, label='ROC-AUC Media')\n",
    "plt.legend(fontsize=10)\n",
    "plt.tight_layout()"
   ]
  },
  {
   "cell_type": "code",
   "execution_count": 22,
   "metadata": {},
   "outputs": [
    {
     "name": "stdout",
     "output_type": "stream",
     "text": [
      "Número de características seleccionadas: 8\n",
      "Características seleccionadas: ['valor', 'canal1', 'diames', 'nropaises', 'oficina_vin', 'ingresos', 'egresos', 'dist_mean_nal']\n"
     ]
    }
   ],
   "source": [
    "# Resultados\n",
    "print(f'Número de características seleccionadas: {len(roc_values[roc_values > np.mean(roc_values)])}')\n",
    "selected_features = roc_values[roc_values > np.mean(roc_values)].index\n",
    "print(f'Características seleccionadas: {selected_features.to_list()}')"
   ]
  },
  {
   "cell_type": "code",
   "execution_count": 23,
   "metadata": {},
   "outputs": [
    {
     "data": {
      "text/plain": [
       "((2368, 8), (592, 8))"
      ]
     },
     "execution_count": 23,
     "metadata": {},
     "output_type": "execute_result"
    }
   ],
   "source": [
    "# Features seleccionados de forma univariada\n",
    "X_train_univariado = X_train[selected_features]\n",
    "X_val_univariado = X_val[selected_features]\n",
    "\n",
    "X_train_univariado.shape, X_val_univariado.shape"
   ]
  },
  {
   "cell_type": "markdown",
   "metadata": {},
   "source": [
    "### *Función de coste/pérdida*\n",
    "* En el aprendizaje automático (Machine Learning), una **función de coste** (en inglés \"cost function\" o \"loss function\") es una medida que se utiliza para evaluar la calidad de un modelo de aprendizaje supervisado.\n",
    "\n",
    "* La función de coste se utiliza para medir la discrepancia entre los valores predichos por el modelo y los valores reales del conjunto de datos de entrenamiento. El objetivo es minimizar esta discrepancia, es decir, minimizar la función de coste, para que el modelo se ajuste mejor a los datos y pueda generalizar correctamente a datos nuevos y no vistos previamente.\n",
    "\n",
    "* La elección de una función de coste adecuada es fundamental en el proceso de entrenamiento de un modelo de aprendizaje automático, ya que afecta directamente a la calidad y precisión del modelo. Además, también puede influir en el tiempo y recursos necesarios para entrenar el modelo."
   ]
  },
  {
   "cell_type": "code",
   "execution_count": 24,
   "metadata": {},
   "outputs": [],
   "source": [
    "from sklearn.ensemble import RandomForestClassifier\n",
    "from sklearn.model_selection import StratifiedKFold\n",
    "from sklearn.model_selection import cross_validate\n",
    "from sklearn.metrics import roc_auc_score\n",
    "\n",
    "\n",
    "# Función de coste para evaluar el rendimiento del clasificador\n",
    "def cost_function(X_train, y_train, X_val, y_val):\n",
    "    \n",
    "    # Instanciamos nuestro clasificador\n",
    "    rf = RandomForestClassifier(n_estimators=200, random_state=39, max_depth=4, class_weight='balanced')\n",
    "    rf.fit(X_train, y_train)\n",
    "    \n",
    "    # K-Fold estratificado\n",
    "    skfold = StratifiedKFold(n_splits=10, shuffle=True, random_state=25)\n",
    "\n",
    "    # Resultados de la validación cruzada\n",
    "    scores = cross_validate(rf,\n",
    "                            X_train,\n",
    "                            y_train,\n",
    "                            scoring='roc_auc',\n",
    "                            cv=skfold,\n",
    "                            return_estimator=True,\n",
    "                            return_train_score=True,\n",
    "                            n_jobs=-1)\n",
    "    \n",
    "    # Rendimiento con el conjunto de train\n",
    "    train_means = np.mean(scores['train_score'])\n",
    "    train_std = np.std(scores['train_score'])\n",
    "\n",
    "    # Rendimiento con el conjunto de validation\n",
    "    val_means = np.mean(scores['test_score'])\n",
    "    val_std = np.std(scores['test_score'])\n",
    "\n",
    "    # Obtenemos el mejor estimador entrenado\n",
    "    best_model = [estimator for idx, estimator in enumerate(scores['estimator']) if idx == np.argmax(scores['test_score'])][0]\n",
    "    \n",
    "    print('=== Train set ===')\n",
    "    print(f'Mejor modelo de {type(best_model).__name__} con el conjunto de entrenamiento: {100*train_means:0.2f}% de media +/- {100*train_std:0.2f}% de desviación estándar\\n')\n",
    "\n",
    "    print('=== Validation set ===')\n",
    "    print(f'Mejor modelo de {type(best_model).__name__} con el conjunto de validación: {100*val_means:0.2f}% de media +/- {100*val_std:0.2f}% de desviación estándar')\n"
   ]
  },
  {
   "cell_type": "markdown",
   "metadata": {},
   "source": [
    "### *Evaluar*\n",
    "\n",
    "### *Validación cruzada*\n",
    "* Es una técnica utilizada en el aprendizaje automático (Machine Learning) y la estadística para evaluar el rendimiento de un modelo predictivo.\n",
    "\n",
    "* La validación cruzada se utiliza para evitar problemas de sobreajuste (overfitting) en los modelos predictivos, que ocurren cuando el modelo se ajusta demasiado bien a los datos de entrenamiento y no generaliza bien a datos nuevos. Al dividir los datos en subconjuntos de entrenamiento y prueba y repetir el proceso varias veces, se obtiene una estimación más precisa del rendimiento del modelo y se reduce el riesgo de sobreajuste."
   ]
  },
  {
   "cell_type": "code",
   "execution_count": 25,
   "metadata": {},
   "outputs": [
    {
     "name": "stdout",
     "output_type": "stream",
     "text": [
      "=== Train set ===\n",
      "Mejor modelo de RandomForestClassifier con el conjunto de entrenamiento: 92.56% de media +/- 0.16% de desviación estándar\n",
      "\n",
      "=== Validation set ===\n",
      "Mejor modelo de RandomForestClassifier con el conjunto de validación: 90.78% de media +/- 1.61% de desviación estándar\n"
     ]
    }
   ],
   "source": [
    "# Con todos los features\n",
    "cost_function(X_train_original, y_train, X_val_original, y_val)"
   ]
  },
  {
   "cell_type": "code",
   "execution_count": 26,
   "metadata": {},
   "outputs": [
    {
     "name": "stdout",
     "output_type": "stream",
     "text": [
      "=== Train set ===\n",
      "Mejor modelo de RandomForestClassifier con el conjunto de entrenamiento: 90.19% de media +/- 0.16% de desviación estándar\n",
      "\n",
      "=== Validation set ===\n",
      "Mejor modelo de RandomForestClassifier con el conjunto de validación: 88.62% de media +/- 1.70% de desviación estándar\n"
     ]
    }
   ],
   "source": [
    "# Con los features seleccionados por el test de Chi²\n",
    "cost_function(X_train_chi2, y_train, X_val_chi2, y_val)"
   ]
  },
  {
   "cell_type": "code",
   "execution_count": 27,
   "metadata": {},
   "outputs": [
    {
     "name": "stdout",
     "output_type": "stream",
     "text": [
      "=== Train set ===\n",
      "Mejor modelo de RandomForestClassifier con el conjunto de entrenamiento: 89.90% de media +/- 0.23% de desviación estándar\n",
      "\n",
      "=== Validation set ===\n",
      "Mejor modelo de RandomForestClassifier con el conjunto de validación: 88.09% de media +/- 1.45% de desviación estándar\n"
     ]
    }
   ],
   "source": [
    "# Con los features seleccionados de forma univariada\n",
    "cost_function(X_train_univariado, y_train, X_val_univariado, y_val)"
   ]
  },
  {
   "cell_type": "markdown",
   "metadata": {},
   "source": [
    "---\n",
    "---"
   ]
  }
 ],
 "metadata": {
  "kernelspec": {
   "display_name": "Python 3.10.8 ('lynn')",
   "language": "python",
   "name": "python3"
  },
  "language_info": {
   "codemirror_mode": {
    "name": "ipython",
    "version": 3
   },
   "file_extension": ".py",
   "mimetype": "text/x-python",
   "name": "python",
   "nbconvert_exporter": "python",
   "pygments_lexer": "ipython3",
   "version": "3.10.8"
  },
  "orig_nbformat": 4,
  "vscode": {
   "interpreter": {
    "hash": "a470933c878a889f9588dcec647d953ea2e0e8d4b8186010aa374b5caaa83858"
   }
  }
 },
 "nbformat": 4,
 "nbformat_minor": 2
}
