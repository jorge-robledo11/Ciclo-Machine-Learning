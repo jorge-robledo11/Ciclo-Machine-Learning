{
 "cells": [
  {
   "cell_type": "markdown",
   "metadata": {},
   "source": [
    "## *01. Estructuras de datos*\n",
    "\n",
    "En Python, las estructuras de datos son objetos que permiten almacenar y organizar datos de manera eficiente. Algunas de las estructuras de datos más comunes en Python incluyen:\n",
    "\n",
    "* Listas: una colección ordenada y mutable de elementos, donde cada elemento puede ser cualquier tipo de objeto. Las listas se pueden modificar agregando, eliminando o cambiando elementos.\n",
    "\n",
    "* Tuplas: una colección ordenada e inmutable de elementos, donde cada elemento puede ser cualquier tipo de objeto. Las tuplas no se pueden modificar después de ser creadas.\n",
    "\n",
    "* Conjuntos: una colección desordenada y mutable de elementos únicos, donde cada elemento puede ser cualquier tipo de objeto. Los conjuntos se pueden modificar agregando o eliminando elementos.\n",
    "\n",
    "* Diccionarios: una colección desordenada y mutable de pares clave-valor, donde cada clave es única y se utiliza para acceder a su correspondiente valor. Los diccionarios se pueden modificar agregando, eliminando o cambiando pares clave-valor.\n",
    "\n",
    "Además de estas estructuras de datos básicas, Python también cuenta con otras estructuras más avanzadas, como:\n",
    "* Arreglos: es una estructura de datos de array multidimensional que se utiliza para almacenar y manipular datos numéricos en Python. Los arrays de `NumPy` son similares a las listas de Python, pero proporcionan muchas más funciones y operaciones optimizadas para el procesamiento de datos numéricos.\n",
    "\n",
    "* Dataframe: es una estructura de datos tabular bidimensional que se utiliza para almacenar y manipular datos en un entorno de análisis de datos. Está diseñado para trabajar con datos estructurados y se puede pensar como una tabla de datos similar a una hoja de cálculo de **Excel** o una tabla en una **base de datos**."
   ]
  },
  {
   "cell_type": "markdown",
   "metadata": {},
   "source": [
    "#### **Carga de librerías**\n",
    "Generalmente, para importar cualquier librería escribimos la palabra ***import*** seguida del nombre de la librería y, además, le ponemos un alias para después utilizarla con mayor comodidad.\n",
    "\n",
    "En esta clase, importaremos `pandas` junto a la librería `numpy`, que utilizaremos en ejemplos más abajo."
   ]
  },
  {
   "cell_type": "code",
   "execution_count": 1,
   "metadata": {},
   "outputs": [],
   "source": [
    "import numpy as np\n",
    "import pandas as pd"
   ]
  },
  {
   "cell_type": "markdown",
   "metadata": {},
   "source": [
    "### *Estructuras de datos de Pandas*\n",
    "Las estructuras de datos típicas de pandas son las *Series* y los *DataFrames* (en esta clase los escribiremos así, aunque es habitual encontrarlos escritos directamente como *Series* y *Dataframes*)."
   ]
  },
  {
   "cell_type": "markdown",
   "metadata": {},
   "source": [
    "### *Series*\n",
    "Un objeto de tipo Serie es una estructura unidimensional que contiene una secuencia de datos, es decir, es un objeto similar a una lista de valores. Además, también contiene una secuencia de etiquetas asociadas a los datos, que actúan como un índice. La forma general de crear una Serie es la siguiente:"
   ]
  },
  {
   "cell_type": "code",
   "execution_count": null,
   "metadata": {},
   "outputs": [],
   "source": [
    "# pd.Series(data, index)"
   ]
  },
  {
   "cell_type": "markdown",
   "metadata": {},
   "source": [
    "Donde:\n",
    "- *data* puede ser una lista de valores, un diccionario de Python, un ndarray (matriz de NumPy), un valor escalar... \n",
    "- *index* es una lista de etiquetas para el eje."
   ]
  },
  {
   "cell_type": "markdown",
   "metadata": {},
   "source": [
    "#### *Creación de una Serie a partir de una lista de valores*"
   ]
  },
  {
   "cell_type": "code",
   "execution_count": 2,
   "metadata": {},
   "outputs": [
    {
     "data": {
      "text/plain": [
       "0    Manzanas\n",
       "1     Cerezas\n",
       "2    Naranjas\n",
       "dtype: object"
      ]
     },
     "execution_count": 2,
     "metadata": {},
     "output_type": "execute_result"
    }
   ],
   "source": [
    "lista_valores = ['Manzanas', 'Cerezas', 'Naranjas']\n",
    "\n",
    "serie1 = pd.Series(data = lista_valores,\n",
    "                   index = None)\n",
    "serie1"
   ]
  },
  {
   "cell_type": "markdown",
   "metadata": {},
   "source": [
    "En el ejemplo anterior, como no se ha especificado un índice concreto, pandas crea por defecto un índice con números enteros:\n",
    "- El registro 0 es Manzanas\n",
    "- El registro 1 es Cerezas\n",
    "- El registro 2 es Naranjas\n",
    "\n",
    "Si quieres especificar otro índice distinto, puedes hacerlo así:"
   ]
  },
  {
   "cell_type": "code",
   "execution_count": 3,
   "metadata": {},
   "outputs": [
    {
     "data": {
      "text/plain": [
       "Fruta1    Manzanas\n",
       "Fruta2     Cerezas\n",
       "Fruta3    Naranjas\n",
       "dtype: object"
      ]
     },
     "execution_count": 3,
     "metadata": {},
     "output_type": "execute_result"
    }
   ],
   "source": [
    "pd.Series(data = lista_valores, \n",
    "          index = ['Fruta1', 'Fruta2', 'Fruta3'])"
   ]
  },
  {
   "cell_type": "markdown",
   "metadata": {},
   "source": [
    "#### *Creación de una Serie a partir de un diccionario*"
   ]
  },
  {
   "cell_type": "code",
   "execution_count": 4,
   "metadata": {},
   "outputs": [
    {
     "data": {
      "text/plain": [
       "valor1    1\n",
       "valor2    2\n",
       "valor3    3\n",
       "dtype: int64"
      ]
     },
     "execution_count": 4,
     "metadata": {},
     "output_type": "execute_result"
    }
   ],
   "source": [
    "pd.Series(data = {\n",
    "    'valor1': 1,\n",
    "    'valor2': 2,\n",
    "    'valor3': 3\n",
    "})"
   ]
  },
  {
   "cell_type": "markdown",
   "metadata": {},
   "source": [
    "### *DataFrames*\n",
    "Un `DataFrame` es una estructura de datos de dos dimensiones: en esencia, es una tabla con filas y columnas, en la cual las columnas tienen un nombre y las filas tienen un índice. "
   ]
  },
  {
   "cell_type": "markdown",
   "metadata": {},
   "source": [
    "Un DataFrame se puede crear a partir de diversos elementos:\n",
    "- Un diccionario de ndarrays de 1 dimensión, listas, diccionarios o Series\n",
    "- Un ndarray de 2 dimensiones\n",
    "- Otro DataFrame"
   ]
  },
  {
   "cell_type": "markdown",
   "metadata": {},
   "source": [
    "#### *Creación de un DataFrame a partir de un diccionario de Series*\n",
    "En el ejemplo a continuación, se crean dos Series que después se utilizan para construir un DataFrame."
   ]
  },
  {
   "cell_type": "code",
   "execution_count": 5,
   "metadata": {},
   "outputs": [
    {
     "data": {
      "text/plain": [
       "0            Manzanas\n",
       "1             Cerezas\n",
       "2    Naranjas de zumo\n",
       "dtype: object"
      ]
     },
     "execution_count": 5,
     "metadata": {},
     "output_type": "execute_result"
    }
   ],
   "source": [
    "productos = pd.Series(['Manzanas', 'Cerezas', 'Naranjas'])\n",
    "productos"
   ]
  },
  {
   "cell_type": "code",
   "execution_count": 6,
   "metadata": {},
   "outputs": [
    {
     "data": {
      "text/plain": [
       "0    0.99\n",
       "1    2.95\n",
       "2    0.79\n",
       "dtype: float64"
      ]
     },
     "execution_count": 6,
     "metadata": {},
     "output_type": "execute_result"
    }
   ],
   "source": [
    "precios = pd.Series([0.99, 2.95, 0.79])\n",
    "precios"
   ]
  },
  {
   "cell_type": "markdown",
   "metadata": {},
   "source": [
    "Una vez guardadas las dos Series en dos variables, podemos crear un DataFrame a partir de ellas. Para ello, utilizamos el constructor pd.DataFrame, que contiene un diccionario con el nombre que queremos que tengan las columnas como clave y las Series anteriores como valores:"
   ]
  },
  {
   "cell_type": "code",
   "execution_count": 7,
   "metadata": {},
   "outputs": [
    {
     "data": {
      "text/html": [
       "<div>\n",
       "<style scoped>\n",
       "    .dataframe tbody tr th:only-of-type {\n",
       "        vertical-align: middle;\n",
       "    }\n",
       "\n",
       "    .dataframe tbody tr th {\n",
       "        vertical-align: top;\n",
       "    }\n",
       "\n",
       "    .dataframe thead th {\n",
       "        text-align: right;\n",
       "    }\n",
       "</style>\n",
       "<table border=\"1\" class=\"dataframe\">\n",
       "  <thead>\n",
       "    <tr style=\"text-align: right;\">\n",
       "      <th></th>\n",
       "      <th>Producto</th>\n",
       "      <th>Precio</th>\n",
       "    </tr>\n",
       "  </thead>\n",
       "  <tbody>\n",
       "    <tr>\n",
       "      <th>0</th>\n",
       "      <td>Manzanas</td>\n",
       "      <td>0.99</td>\n",
       "    </tr>\n",
       "    <tr>\n",
       "      <th>1</th>\n",
       "      <td>Cerezas</td>\n",
       "      <td>2.95</td>\n",
       "    </tr>\n",
       "    <tr>\n",
       "      <th>2</th>\n",
       "      <td>Naranjas de zumo</td>\n",
       "      <td>0.79</td>\n",
       "    </tr>\n",
       "  </tbody>\n",
       "</table>\n",
       "</div>"
      ],
      "text/plain": [
       "           Producto  Precio\n",
       "0          Manzanas    0.99\n",
       "1           Cerezas    2.95\n",
       "2  Naranjas de zumo    0.79"
      ]
     },
     "execution_count": 7,
     "metadata": {},
     "output_type": "execute_result"
    }
   ],
   "source": [
    "frutas_df = pd.DataFrame({'Producto': productos,\n",
    "                          'Precio': precios})\n",
    "frutas_df"
   ]
  },
  {
   "cell_type": "code",
   "execution_count": 8,
   "metadata": {},
   "outputs": [
    {
     "data": {
      "text/plain": [
       "Index(['Producto', 'Precio'], dtype='object')"
      ]
     },
     "execution_count": 8,
     "metadata": {},
     "output_type": "execute_result"
    }
   ],
   "source": [
    "frutas_df.columns"
   ]
  },
  {
   "cell_type": "code",
   "execution_count": 9,
   "metadata": {},
   "outputs": [
    {
     "data": {
      "text/plain": [
       "RangeIndex(start=0, stop=3, step=1)"
      ]
     },
     "execution_count": 9,
     "metadata": {},
     "output_type": "execute_result"
    }
   ],
   "source": [
    "frutas_df.index"
   ]
  },
  {
   "cell_type": "code",
   "execution_count": 10,
   "metadata": {},
   "outputs": [
    {
     "data": {
      "text/plain": [
       "(3, 2)"
      ]
     },
     "execution_count": 10,
     "metadata": {},
     "output_type": "execute_result"
    }
   ],
   "source": [
    "frutas_df.shape"
   ]
  },
  {
   "cell_type": "code",
   "execution_count": 11,
   "metadata": {},
   "outputs": [
    {
     "data": {
      "text/plain": [
       "array([['Manzanas', 0.99],\n",
       "       ['Cerezas', 2.95],\n",
       "       ['Naranjas de zumo', 0.79]], dtype=object)"
      ]
     },
     "execution_count": 11,
     "metadata": {},
     "output_type": "execute_result"
    }
   ],
   "source": [
    "frutas_df.values"
   ]
  },
  {
   "cell_type": "markdown",
   "metadata": {},
   "source": [
    "En esencia, una `Serie` se puede considerar como una columna de un `DataFrame`."
   ]
  },
  {
   "cell_type": "markdown",
   "metadata": {},
   "source": [
    "#### *Creación de un DataFrame a partir de un diccionario de listas*"
   ]
  },
  {
   "cell_type": "markdown",
   "metadata": {},
   "source": [
    "El mismo DataFrame del ejemplo anterior también se puede construir de manera muy simple mediante un diccionario que tiene como claves los nombres de las variables (que serán los nombres de las columnas) y como valores las listas que contienen los datos de cada variable:"
   ]
  },
  {
   "cell_type": "code",
   "execution_count": 12,
   "metadata": {},
   "outputs": [
    {
     "data": {
      "text/html": [
       "<div>\n",
       "<style scoped>\n",
       "    .dataframe tbody tr th:only-of-type {\n",
       "        vertical-align: middle;\n",
       "    }\n",
       "\n",
       "    .dataframe tbody tr th {\n",
       "        vertical-align: top;\n",
       "    }\n",
       "\n",
       "    .dataframe thead th {\n",
       "        text-align: right;\n",
       "    }\n",
       "</style>\n",
       "<table border=\"1\" class=\"dataframe\">\n",
       "  <thead>\n",
       "    <tr style=\"text-align: right;\">\n",
       "      <th></th>\n",
       "      <th>Producto</th>\n",
       "      <th>Precio</th>\n",
       "    </tr>\n",
       "  </thead>\n",
       "  <tbody>\n",
       "    <tr>\n",
       "      <th>0</th>\n",
       "      <td>Manzanas</td>\n",
       "      <td>0.99</td>\n",
       "    </tr>\n",
       "    <tr>\n",
       "      <th>1</th>\n",
       "      <td>Cerezas</td>\n",
       "      <td>2.95</td>\n",
       "    </tr>\n",
       "    <tr>\n",
       "      <th>2</th>\n",
       "      <td>Naranjas</td>\n",
       "      <td>0.79</td>\n",
       "    </tr>\n",
       "  </tbody>\n",
       "</table>\n",
       "</div>"
      ],
      "text/plain": [
       "   Producto  Precio\n",
       "0  Manzanas    0.99\n",
       "1   Cerezas    2.95\n",
       "2  Naranjas    0.79"
      ]
     },
     "execution_count": 12,
     "metadata": {},
     "output_type": "execute_result"
    }
   ],
   "source": [
    "pd.DataFrame({'Producto': ['Manzanas', 'Cerezas', 'Naranjas'],\n",
    "              'Precio': [0.99, 2.95, 0.79]})"
   ]
  },
  {
   "cell_type": "markdown",
   "metadata": {},
   "source": [
    "Como ves, un objeto de tipo DataFrame puede contener variables de todo tipo: int (números enteros), string (cadenas de texto), etc. Para comprobar los tipos de las variables de un DataFrame, se utiliza la siguiente propiedad:"
   ]
  },
  {
   "cell_type": "code",
   "execution_count": 13,
   "metadata": {},
   "outputs": [
    {
     "data": {
      "text/plain": [
       "Producto     object\n",
       "Precio      float64\n",
       "dtype: object"
      ]
     },
     "execution_count": 13,
     "metadata": {},
     "output_type": "execute_result"
    }
   ],
   "source": [
    "frutas_df.dtypes"
   ]
  },
  {
   "cell_type": "markdown",
   "metadata": {},
   "source": [
    "#### *Creación de un DataFrame a partir de un diccionario de múltiples estructuras*\n",
    "\n",
    "El siguiente ejemplo muestra cómo se construye un DataFrame mediante un diccionario con diversos tipos de variables:\n",
    "\n",
    "Como puedes ver, hemos creado cada columna a partir de una estructura diferente:\n",
    "- Columna 1: un valor constante de tipo Timestamp, que se repetirá tantas veces como valores tenga la columna más larga del DataFrame.\n",
    "- Columna 2: una Serie formada por el valor constante 10 (de tipo float32) repetido 6 veces, ya que queremos que el DataFrame tenga 6 filas.\n",
    "- Columna 3: un valor constante de tipo float64 (lo indicamos al poner un punto a la derecha del número), que se repetirá tantas veces como valores tenga la columna más larga del DataFrame.\n",
    "- Columna 4: una variable categórica con 6 categorías (queremos que el DataFrame tenga 6 filas).\n",
    "- Columna 5: un valor constante de tipo string, que se repetirá tantas veces como valores tenga la columna más larga del DataFrame.\n",
    "- Columna 6: un array de numpy formado por el valor 2 (de tipo int32) repetido 6 veces."
   ]
  },
  {
   "cell_type": "code",
   "execution_count": 14,
   "metadata": {},
   "outputs": [
    {
     "data": {
      "text/html": [
       "<div>\n",
       "<style scoped>\n",
       "    .dataframe tbody tr th:only-of-type {\n",
       "        vertical-align: middle;\n",
       "    }\n",
       "\n",
       "    .dataframe tbody tr th {\n",
       "        vertical-align: top;\n",
       "    }\n",
       "\n",
       "    .dataframe thead th {\n",
       "        text-align: right;\n",
       "    }\n",
       "</style>\n",
       "<table border=\"1\" class=\"dataframe\">\n",
       "  <thead>\n",
       "    <tr style=\"text-align: right;\">\n",
       "      <th></th>\n",
       "      <th>Columna 1</th>\n",
       "      <th>Columna 2</th>\n",
       "      <th>Columna 3</th>\n",
       "      <th>Columna 4</th>\n",
       "      <th>Columna 5</th>\n",
       "      <th>Columna 6</th>\n",
       "    </tr>\n",
       "  </thead>\n",
       "  <tbody>\n",
       "    <tr>\n",
       "      <th>0</th>\n",
       "      <td>2023-03-07</td>\n",
       "      <td>10.0</td>\n",
       "      <td>5.0</td>\n",
       "      <td>Valor 1</td>\n",
       "      <td>Valor</td>\n",
       "      <td>2</td>\n",
       "    </tr>\n",
       "    <tr>\n",
       "      <th>1</th>\n",
       "      <td>2023-03-07</td>\n",
       "      <td>10.0</td>\n",
       "      <td>5.0</td>\n",
       "      <td>Valor 2</td>\n",
       "      <td>Valor</td>\n",
       "      <td>2</td>\n",
       "    </tr>\n",
       "    <tr>\n",
       "      <th>2</th>\n",
       "      <td>2023-03-07</td>\n",
       "      <td>10.0</td>\n",
       "      <td>5.0</td>\n",
       "      <td>Valor 3</td>\n",
       "      <td>Valor</td>\n",
       "      <td>2</td>\n",
       "    </tr>\n",
       "    <tr>\n",
       "      <th>3</th>\n",
       "      <td>2023-03-07</td>\n",
       "      <td>10.0</td>\n",
       "      <td>5.0</td>\n",
       "      <td>Valor 4</td>\n",
       "      <td>Valor</td>\n",
       "      <td>2</td>\n",
       "    </tr>\n",
       "    <tr>\n",
       "      <th>4</th>\n",
       "      <td>2023-03-07</td>\n",
       "      <td>10.0</td>\n",
       "      <td>5.0</td>\n",
       "      <td>Valor 5</td>\n",
       "      <td>Valor</td>\n",
       "      <td>2</td>\n",
       "    </tr>\n",
       "    <tr>\n",
       "      <th>5</th>\n",
       "      <td>2023-03-07</td>\n",
       "      <td>10.0</td>\n",
       "      <td>5.0</td>\n",
       "      <td>Valor 6</td>\n",
       "      <td>Valor</td>\n",
       "      <td>2</td>\n",
       "    </tr>\n",
       "  </tbody>\n",
       "</table>\n",
       "</div>"
      ],
      "text/plain": [
       "   Columna 1  Columna 2  Columna 3 Columna 4 Columna 5  Columna 6\n",
       "0 2023-03-07       10.0        5.0   Valor 1     Valor          2\n",
       "1 2023-03-07       10.0        5.0   Valor 2     Valor          2\n",
       "2 2023-03-07       10.0        5.0   Valor 3     Valor          2\n",
       "3 2023-03-07       10.0        5.0   Valor 4     Valor          2\n",
       "4 2023-03-07       10.0        5.0   Valor 5     Valor          2\n",
       "5 2023-03-07       10.0        5.0   Valor 6     Valor          2"
      ]
     },
     "execution_count": 14,
     "metadata": {},
     "output_type": "execute_result"
    }
   ],
   "source": [
    "df = pd.DataFrame({\n",
    "    'Columna 1': pd.Timestamp('2023-03-07'),\n",
    "    'Columna 2': pd.Series(10, index=list(range(6)), dtype='float32'),\n",
    "    'Columna 3': 5.,\n",
    "    'Columna 4': pd.Categorical([f'Valor {num}' for num in range(1, 7)]),\n",
    "    'Columna 5': 'Valor',\n",
    "    'Columna 6': np.array([2]*6, dtype = 'int32')\n",
    "})\n",
    "\n",
    "df"
   ]
  },
  {
   "cell_type": "markdown",
   "metadata": {},
   "source": [
    "Comprobemos los tipos de las columnas del DataFrame que acabamos de crear:"
   ]
  },
  {
   "cell_type": "code",
   "execution_count": 15,
   "metadata": {},
   "outputs": [
    {
     "data": {
      "text/plain": [
       "Columna 1    datetime64[ns]\n",
       "Columna 2           float32\n",
       "Columna 3           float64\n",
       "Columna 4          category\n",
       "Columna 5            object\n",
       "Columna 6             int32\n",
       "dtype: object"
      ]
     },
     "execution_count": 15,
     "metadata": {},
     "output_type": "execute_result"
    }
   ],
   "source": [
    "df.dtypes"
   ]
  },
  {
   "cell_type": "markdown",
   "metadata": {},
   "source": [
    "---\n",
    "---"
   ]
  }
 ],
 "metadata": {
  "kernelspec": {
   "display_name": "Python 3.10.8 ('lynn')",
   "language": "python",
   "name": "python3"
  },
  "language_info": {
   "codemirror_mode": {
    "name": "ipython",
    "version": 3
   },
   "file_extension": ".py",
   "mimetype": "text/x-python",
   "name": "python",
   "nbconvert_exporter": "python",
   "pygments_lexer": "ipython3",
   "version": "3.10.8"
  },
  "toc": {
   "base_numbering": 1,
   "nav_menu": {},
   "number_sections": true,
   "sideBar": true,
   "skip_h1_title": false,
   "title_cell": "Table of Contents",
   "title_sidebar": "Contents",
   "toc_cell": true,
   "toc_position": {},
   "toc_section_display": true,
   "toc_window_display": false
  },
  "varInspector": {
   "cols": {
    "lenName": 16,
    "lenType": 16,
    "lenVar": 40
   },
   "kernels_config": {
    "python": {
     "delete_cmd_postfix": "",
     "delete_cmd_prefix": "del ",
     "library": "var_list.py",
     "varRefreshCmd": "print(var_dic_list())"
    },
    "r": {
     "delete_cmd_postfix": ") ",
     "delete_cmd_prefix": "rm(",
     "library": "var_list.r",
     "varRefreshCmd": "cat(var_dic_list()) "
    }
   },
   "types_to_exclude": [
    "module",
    "function",
    "builtin_function_or_method",
    "instance",
    "_Feature"
   ],
   "window_display": false
  },
  "vscode": {
   "interpreter": {
    "hash": "a470933c878a889f9588dcec647d953ea2e0e8d4b8186010aa374b5caaa83858"
   }
  }
 },
 "nbformat": 4,
 "nbformat_minor": 4
}
