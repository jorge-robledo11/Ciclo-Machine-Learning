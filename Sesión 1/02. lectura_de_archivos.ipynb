{
 "cells": [
  {
   "cell_type": "markdown",
   "metadata": {},
   "source": [
    "## *02. Lectura de archivos*\n",
    "Lo normal no es crear los datos desde cero como en los ejemplos anteriores. Lo más común es tener datos ya existentes, como por ejemplo en archivos en un formato concreto (.csv, .xlsx, .json, etc.) o en tablas SQL, aunque las opciones son muy numerosas. En cualquier caso, el objetivo es el mismo: leer esos datos y cargarlos en un `DataFrame` para poder procesarlos. Para ello, `pandas` cuenta con diversas funciones que permiten cubrir prácticamente cualquier caso de uso."
   ]
  },
  {
   "cell_type": "markdown",
   "metadata": {},
   "source": [
    "### **Lectura de archivos csv**\n",
    "Un archivo CSV es, en esencia, una tabla de valores que están separados unos de otros mediante comas (aunque también pueden estar separados por otro tipo de delimitadores, como por ejemplo puntos y comas o el caracter \"invisible\" que surge cuando se presiona la tecla *tab*). Al abrir un archivo de este tipo, habitualmente nos encontraremos algo similar a lo siguiente:"
   ]
  },
  {
   "cell_type": "code",
   "execution_count": 1,
   "metadata": {},
   "outputs": [],
   "source": [
    "import pandas as pd\n",
    "import numpy as np"
   ]
  },
  {
   "cell_type": "code",
   "execution_count": 6,
   "metadata": {},
   "outputs": [
    {
     "data": {
      "text/html": [
       "<div>\n",
       "<style scoped>\n",
       "    .dataframe tbody tr th:only-of-type {\n",
       "        vertical-align: middle;\n",
       "    }\n",
       "\n",
       "    .dataframe tbody tr th {\n",
       "        vertical-align: top;\n",
       "    }\n",
       "\n",
       "    .dataframe thead th {\n",
       "        text-align: right;\n",
       "    }\n",
       "</style>\n",
       "<table border=\"1\" class=\"dataframe\">\n",
       "  <thead>\n",
       "    <tr style=\"text-align: right;\">\n",
       "      <th></th>\n",
       "      <th>Columna 1</th>\n",
       "      <th>Columna 2</th>\n",
       "      <th>Columna 3</th>\n",
       "      <th>Columna 4</th>\n",
       "      <th>Columna 5</th>\n",
       "      <th>Columna 6</th>\n",
       "    </tr>\n",
       "  </thead>\n",
       "  <tbody>\n",
       "    <tr>\n",
       "      <th>0</th>\n",
       "      <td>2023-03-07</td>\n",
       "      <td>10.0</td>\n",
       "      <td>5.0</td>\n",
       "      <td>Valor 1</td>\n",
       "      <td>Valor</td>\n",
       "      <td>2</td>\n",
       "    </tr>\n",
       "    <tr>\n",
       "      <th>1</th>\n",
       "      <td>2023-03-07</td>\n",
       "      <td>10.0</td>\n",
       "      <td>5.0</td>\n",
       "      <td>Valor 2</td>\n",
       "      <td>Valor</td>\n",
       "      <td>2</td>\n",
       "    </tr>\n",
       "    <tr>\n",
       "      <th>2</th>\n",
       "      <td>2023-03-07</td>\n",
       "      <td>10.0</td>\n",
       "      <td>5.0</td>\n",
       "      <td>Valor 3</td>\n",
       "      <td>Valor</td>\n",
       "      <td>2</td>\n",
       "    </tr>\n",
       "    <tr>\n",
       "      <th>3</th>\n",
       "      <td>2023-03-07</td>\n",
       "      <td>10.0</td>\n",
       "      <td>5.0</td>\n",
       "      <td>Valor 4</td>\n",
       "      <td>Valor</td>\n",
       "      <td>2</td>\n",
       "    </tr>\n",
       "    <tr>\n",
       "      <th>4</th>\n",
       "      <td>2023-03-07</td>\n",
       "      <td>10.0</td>\n",
       "      <td>5.0</td>\n",
       "      <td>Valor 5</td>\n",
       "      <td>Valor</td>\n",
       "      <td>2</td>\n",
       "    </tr>\n",
       "  </tbody>\n",
       "</table>\n",
       "</div>"
      ],
      "text/plain": [
       "    Columna 1  Columna 2  Columna 3 Columna 4 Columna 5  Columna 6\n",
       "0  2023-03-07       10.0        5.0   Valor 1     Valor          2\n",
       "1  2023-03-07       10.0        5.0   Valor 2     Valor          2\n",
       "2  2023-03-07       10.0        5.0   Valor 3     Valor          2\n",
       "3  2023-03-07       10.0        5.0   Valor 4     Valor          2\n",
       "4  2023-03-07       10.0        5.0   Valor 5     Valor          2"
      ]
     },
     "execution_count": 6,
     "metadata": {},
     "output_type": "execute_result"
    }
   ],
   "source": [
    "# Ejemplo de carga de un csv con delimitador \",\"\n",
    "df = pd.read_csv(filepath_or_buffer='datasets/csv_file.csv',\n",
    "                 sep=',')\n",
    "df.head()"
   ]
  },
  {
   "cell_type": "markdown",
   "metadata": {},
   "source": [
    "### **Lectura de archivos xlsx**\n",
    "Para cargar los datos de archivos excel en DataFrames, pandas cuenta con la función `pd.read_excel()`. En realidad, esta función no solo está preparada para leer archivos en formato xlsx, sino también en xls, xlsm, xlsb, y odf. Además, cuenta con una opción para cargar una sola hoja del archivo excel o una lista de hojas. De la misma forma que para el caso de los archivos csv, aquí consideraremos solo algunos de los muchos parámetros de esta función:"
   ]
  },
  {
   "cell_type": "code",
   "execution_count": 7,
   "metadata": {},
   "outputs": [
    {
     "data": {
      "text/html": [
       "<div>\n",
       "<style scoped>\n",
       "    .dataframe tbody tr th:only-of-type {\n",
       "        vertical-align: middle;\n",
       "    }\n",
       "\n",
       "    .dataframe tbody tr th {\n",
       "        vertical-align: top;\n",
       "    }\n",
       "\n",
       "    .dataframe thead th {\n",
       "        text-align: right;\n",
       "    }\n",
       "</style>\n",
       "<table border=\"1\" class=\"dataframe\">\n",
       "  <thead>\n",
       "    <tr style=\"text-align: right;\">\n",
       "      <th></th>\n",
       "      <th>Columna 1</th>\n",
       "      <th>Columna 2</th>\n",
       "      <th>Columna 3</th>\n",
       "      <th>Columna 4</th>\n",
       "      <th>Columna 5</th>\n",
       "      <th>Columna 6</th>\n",
       "    </tr>\n",
       "  </thead>\n",
       "  <tbody>\n",
       "    <tr>\n",
       "      <th>0</th>\n",
       "      <td>2023-03-07</td>\n",
       "      <td>10</td>\n",
       "      <td>5</td>\n",
       "      <td>Valor 1</td>\n",
       "      <td>Valor</td>\n",
       "      <td>2</td>\n",
       "    </tr>\n",
       "    <tr>\n",
       "      <th>1</th>\n",
       "      <td>2023-03-07</td>\n",
       "      <td>10</td>\n",
       "      <td>5</td>\n",
       "      <td>Valor 2</td>\n",
       "      <td>Valor</td>\n",
       "      <td>2</td>\n",
       "    </tr>\n",
       "    <tr>\n",
       "      <th>2</th>\n",
       "      <td>2023-03-07</td>\n",
       "      <td>10</td>\n",
       "      <td>5</td>\n",
       "      <td>Valor 3</td>\n",
       "      <td>Valor</td>\n",
       "      <td>2</td>\n",
       "    </tr>\n",
       "    <tr>\n",
       "      <th>3</th>\n",
       "      <td>2023-03-07</td>\n",
       "      <td>10</td>\n",
       "      <td>5</td>\n",
       "      <td>Valor 4</td>\n",
       "      <td>Valor</td>\n",
       "      <td>2</td>\n",
       "    </tr>\n",
       "    <tr>\n",
       "      <th>4</th>\n",
       "      <td>2023-03-07</td>\n",
       "      <td>10</td>\n",
       "      <td>5</td>\n",
       "      <td>Valor 5</td>\n",
       "      <td>Valor</td>\n",
       "      <td>2</td>\n",
       "    </tr>\n",
       "  </tbody>\n",
       "</table>\n",
       "</div>"
      ],
      "text/plain": [
       "   Columna 1  Columna 2  Columna 3 Columna 4 Columna 5  Columna 6\n",
       "0 2023-03-07         10          5   Valor 1     Valor          2\n",
       "1 2023-03-07         10          5   Valor 2     Valor          2\n",
       "2 2023-03-07         10          5   Valor 3     Valor          2\n",
       "3 2023-03-07         10          5   Valor 4     Valor          2\n",
       "4 2023-03-07         10          5   Valor 5     Valor          2"
      ]
     },
     "execution_count": 7,
     "metadata": {},
     "output_type": "execute_result"
    }
   ],
   "source": [
    "# Ejemplo de carga de un archivo xlsx\n",
    "df = pd.read_excel('datasets/xlsx_file.xlsx')\n",
    "df.head()"
   ]
  },
  {
   "cell_type": "markdown",
   "metadata": {},
   "source": [
    "### **Lectura de archivos en otros formatos**\n",
    "`Pandas` cuenta con un gran número de funciones similares a read_csv() y read_excel(), que nos permiten leer datos de prácticamente cualquier procedencia:\n",
    "- pd.read_sql()\n",
    "- pd.read_json\n",
    "- pd.read_html()\n",
    "- Entre otros\n",
    "\n",
    "El uso de todas estas funciones es muy parecido: únicamente requiere consultar la documentación oficial de `pandas` para seleccionar los parámetros que necesitemos incluir.\n",
    "\n",
    "---\n",
    "---"
   ]
  }
 ],
 "metadata": {
  "kernelspec": {
   "display_name": "Python 3.10.8 ('lynn')",
   "language": "python",
   "name": "python3"
  },
  "language_info": {
   "codemirror_mode": {
    "name": "ipython",
    "version": 3
   },
   "file_extension": ".py",
   "mimetype": "text/x-python",
   "name": "python",
   "nbconvert_exporter": "python",
   "pygments_lexer": "ipython3",
   "version": "3.10.8"
  },
  "orig_nbformat": 4,
  "vscode": {
   "interpreter": {
    "hash": "a470933c878a889f9588dcec647d953ea2e0e8d4b8186010aa374b5caaa83858"
   }
  }
 },
 "nbformat": 4,
 "nbformat_minor": 2
}
