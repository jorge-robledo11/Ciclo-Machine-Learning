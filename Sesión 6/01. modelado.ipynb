{
 "cells": [
  {
   "cell_type": "markdown",
   "metadata": {},
   "source": [
    "## *01. Modelado*\n",
    "\n",
    "* El modelado en machine learning es el proceso de construir un modelo matemático a partir de un conjunto de datos con el objetivo de realizar predicciones precisas sobre nuevos datos. En este proceso, se utilizan técnicas de aprendizaje automático para entrenar el modelo utilizando un conjunto de datos de entrenamiento, que consta de una serie de características o variables independientes y una variable objetivo o variable dependiente.\n",
    "\n",
    "* El objetivo del modelado en machine learning es crear un modelo que pueda generalizar y hacer predicciones precisas sobre nuevos datos que no se han visto antes. Para lograr este objetivo, el proceso de modelado implica:\n",
    "\n",
    "    1. Preprocesamiento de datos: esta etapa implica la limpieza y transformación de los datos para que sean adecuados para el modelado. Esto puede incluir la eliminación de valores faltantes o la transformación de variables categóricas en variables numéricas.\n",
    "\n",
    "    2. Selección de características: esta etapa implica la selección de las características más relevantes o importantes del conjunto de datos que se utilizarán en el modelado. Esto se hace para reducir la complejidad del modelo y mejorar su capacidad de generalización.\n",
    "\n",
    "    3. Entrenamiento del modelo: esta etapa implica la elección de un algoritmo de aprendizaje automático y la selección de los parámetros del modelo para entrenar el modelo con los datos de entrenamiento. Durante esta etapa, el modelo ajusta sus parámetros para minimizar el error en las predicciones sobre los datos de entrenamiento.\n",
    "\n",
    "    4. Validación del modelo: esta etapa implica evaluar el rendimiento del modelo en un conjunto de datos de validación que no se han utilizado en el entrenamiento. Esto permite evaluar la capacidad del modelo para generalizar y hacer predicciones precisas sobre nuevos datos.\n",
    "\n",
    "    5. Evaluación del modelo: esta etapa implica la evaluación del rendimiento del modelo utilizando métricas de evaluación como la precisión, el recall, el F1-score y la curva ROC."
   ]
  },
  {
   "cell_type": "code",
   "execution_count": 1,
   "metadata": {},
   "outputs": [],
   "source": [
    "# Core\n",
    "import pandas as pd\n",
    "import numpy as np\n",
    "import matplotlib.pyplot as plt\n",
    "import seaborn as sns\n",
    "import empiricaldist\n",
    "import warnings\n",
    "from scipy import stats\n",
    "\n",
    "# Display\n",
    "pd.set_option('display.max_columns', None)\n",
    "pd.options.display.float_format = '{:,.2f}'.format\n",
    "sns.set_theme(context='notebook', style=plt.style.use('dark_background'))\n",
    "warnings.simplefilter('ignore')"
   ]
  },
  {
   "cell_type": "code",
   "execution_count": 2,
   "metadata": {},
   "outputs": [
    {
     "data": {
      "text/html": [
       "<div>\n",
       "<style scoped>\n",
       "    .dataframe tbody tr th:only-of-type {\n",
       "        vertical-align: middle;\n",
       "    }\n",
       "\n",
       "    .dataframe tbody tr th {\n",
       "        vertical-align: top;\n",
       "    }\n",
       "\n",
       "    .dataframe thead th {\n",
       "        text-align: right;\n",
       "    }\n",
       "</style>\n",
       "<table border=\"1\" class=\"dataframe\">\n",
       "  <thead>\n",
       "    <tr style=\"text-align: right;\">\n",
       "      <th></th>\n",
       "      <th>fraude</th>\n",
       "      <th>valor</th>\n",
       "      <th>hora_aux</th>\n",
       "      <th>dist_max_nal</th>\n",
       "      <th>canal1</th>\n",
       "      <th>fecha</th>\n",
       "      <th>cod_pais</th>\n",
       "      <th>canal</th>\n",
       "      <th>diasem</th>\n",
       "      <th>diames</th>\n",
       "      <th>fecha_vin</th>\n",
       "      <th>oficina_vin</th>\n",
       "      <th>sexo</th>\n",
       "      <th>segmento</th>\n",
       "      <th>edad</th>\n",
       "      <th>ingresos</th>\n",
       "      <th>egresos</th>\n",
       "      <th>nropaises</th>\n",
       "      <th>nrociudades</th>\n",
       "      <th>dist_mean_nal</th>\n",
       "      <th>dist_hoy</th>\n",
       "      <th>dist_sum_nal</th>\n",
       "    </tr>\n",
       "    <tr>\n",
       "      <th>id</th>\n",
       "      <th></th>\n",
       "      <th></th>\n",
       "      <th></th>\n",
       "      <th></th>\n",
       "      <th></th>\n",
       "      <th></th>\n",
       "      <th></th>\n",
       "      <th></th>\n",
       "      <th></th>\n",
       "      <th></th>\n",
       "      <th></th>\n",
       "      <th></th>\n",
       "      <th></th>\n",
       "      <th></th>\n",
       "      <th></th>\n",
       "      <th></th>\n",
       "      <th></th>\n",
       "      <th></th>\n",
       "      <th></th>\n",
       "      <th></th>\n",
       "      <th></th>\n",
       "      <th></th>\n",
       "    </tr>\n",
       "  </thead>\n",
       "  <tbody>\n",
       "    <tr>\n",
       "      <th>9000000001</th>\n",
       "      <td>1</td>\n",
       "      <td>0.00</td>\n",
       "      <td>13</td>\n",
       "      <td>659.13</td>\n",
       "      <td>atm_int</td>\n",
       "      <td>1970-01-01</td>\n",
       "      <td>us</td>\n",
       "      <td>atm_int</td>\n",
       "      <td>5</td>\n",
       "      <td>1</td>\n",
       "      <td>1970-01-01</td>\n",
       "      <td>392.00</td>\n",
       "      <td>m</td>\n",
       "      <td>personal plus</td>\n",
       "      <td>29.00</td>\n",
       "      <td>1,200,000.00</td>\n",
       "      <td>1,200,000.00</td>\n",
       "      <td>1</td>\n",
       "      <td>6</td>\n",
       "      <td>474.94</td>\n",
       "      <td>4,552.41</td>\n",
       "      <td>5,224.36</td>\n",
       "    </tr>\n",
       "    <tr>\n",
       "      <th>9000000002</th>\n",
       "      <td>1</td>\n",
       "      <td>0.00</td>\n",
       "      <td>17</td>\n",
       "      <td>594.77</td>\n",
       "      <td>atm_int</td>\n",
       "      <td>1970-01-01</td>\n",
       "      <td>us</td>\n",
       "      <td>atm_int</td>\n",
       "      <td>5</td>\n",
       "      <td>15</td>\n",
       "      <td>1970-01-01</td>\n",
       "      <td>716.00</td>\n",
       "      <td>m</td>\n",
       "      <td>personal plus</td>\n",
       "      <td>29.00</td>\n",
       "      <td>5,643,700.00</td>\n",
       "      <td>500,000.00</td>\n",
       "      <td>1</td>\n",
       "      <td>5</td>\n",
       "      <td>289.99</td>\n",
       "      <td>4,552.41</td>\n",
       "      <td>2,029.90</td>\n",
       "    </tr>\n",
       "    <tr>\n",
       "      <th>9000000003</th>\n",
       "      <td>1</td>\n",
       "      <td>0.00</td>\n",
       "      <td>13</td>\n",
       "      <td>659.13</td>\n",
       "      <td>atm_int</td>\n",
       "      <td>1970-01-01</td>\n",
       "      <td>us</td>\n",
       "      <td>atm_int</td>\n",
       "      <td>5</td>\n",
       "      <td>1</td>\n",
       "      <td>1970-01-01</td>\n",
       "      <td>392.00</td>\n",
       "      <td>m</td>\n",
       "      <td>personal plus</td>\n",
       "      <td>29.00</td>\n",
       "      <td>1,200,000.00</td>\n",
       "      <td>1,200,000.00</td>\n",
       "      <td>1</td>\n",
       "      <td>6</td>\n",
       "      <td>474.94</td>\n",
       "      <td>4,552.41</td>\n",
       "      <td>5,224.36</td>\n",
       "    </tr>\n",
       "    <tr>\n",
       "      <th>9000000004</th>\n",
       "      <td>1</td>\n",
       "      <td>0.00</td>\n",
       "      <td>13</td>\n",
       "      <td>659.13</td>\n",
       "      <td>atm_int</td>\n",
       "      <td>1970-01-01</td>\n",
       "      <td>us</td>\n",
       "      <td>atm_int</td>\n",
       "      <td>5</td>\n",
       "      <td>1</td>\n",
       "      <td>1970-01-01</td>\n",
       "      <td>392.00</td>\n",
       "      <td>m</td>\n",
       "      <td>personal plus</td>\n",
       "      <td>29.00</td>\n",
       "      <td>1,200,000.00</td>\n",
       "      <td>1,200,000.00</td>\n",
       "      <td>1</td>\n",
       "      <td>6</td>\n",
       "      <td>474.94</td>\n",
       "      <td>4,552.41</td>\n",
       "      <td>5,224.36</td>\n",
       "    </tr>\n",
       "    <tr>\n",
       "      <th>9000000005</th>\n",
       "      <td>1</td>\n",
       "      <td>0.00</td>\n",
       "      <td>0</td>\n",
       "      <td>1.00</td>\n",
       "      <td>atm_int</td>\n",
       "      <td>1970-01-01</td>\n",
       "      <td>cr</td>\n",
       "      <td>atm_int</td>\n",
       "      <td>0</td>\n",
       "      <td>10</td>\n",
       "      <td>1970-01-01</td>\n",
       "      <td>788.00</td>\n",
       "      <td>m</td>\n",
       "      <td>personal</td>\n",
       "      <td>25.00</td>\n",
       "      <td>0.00</td>\n",
       "      <td>0.00</td>\n",
       "      <td>1</td>\n",
       "      <td>1</td>\n",
       "      <td>NaN</td>\n",
       "      <td>1,482.35</td>\n",
       "      <td>1.00</td>\n",
       "    </tr>\n",
       "  </tbody>\n",
       "</table>\n",
       "</div>"
      ],
      "text/plain": [
       "            fraude  valor  hora_aux  dist_max_nal   canal1      fecha  \\\n",
       "id                                                                      \n",
       "9000000001       1   0.00        13        659.13  atm_int 1970-01-01   \n",
       "9000000002       1   0.00        17        594.77  atm_int 1970-01-01   \n",
       "9000000003       1   0.00        13        659.13  atm_int 1970-01-01   \n",
       "9000000004       1   0.00        13        659.13  atm_int 1970-01-01   \n",
       "9000000005       1   0.00         0          1.00  atm_int 1970-01-01   \n",
       "\n",
       "           cod_pais    canal  diasem  diames  fecha_vin  oficina_vin sexo  \\\n",
       "id                                                                          \n",
       "9000000001       us  atm_int       5       1 1970-01-01       392.00    m   \n",
       "9000000002       us  atm_int       5      15 1970-01-01       716.00    m   \n",
       "9000000003       us  atm_int       5       1 1970-01-01       392.00    m   \n",
       "9000000004       us  atm_int       5       1 1970-01-01       392.00    m   \n",
       "9000000005       cr  atm_int       0      10 1970-01-01       788.00    m   \n",
       "\n",
       "                 segmento  edad     ingresos      egresos  nropaises  \\\n",
       "id                                                                     \n",
       "9000000001  personal plus 29.00 1,200,000.00 1,200,000.00          1   \n",
       "9000000002  personal plus 29.00 5,643,700.00   500,000.00          1   \n",
       "9000000003  personal plus 29.00 1,200,000.00 1,200,000.00          1   \n",
       "9000000004  personal plus 29.00 1,200,000.00 1,200,000.00          1   \n",
       "9000000005       personal 25.00         0.00         0.00          1   \n",
       "\n",
       "            nrociudades  dist_mean_nal  dist_hoy  dist_sum_nal  \n",
       "id                                                              \n",
       "9000000001            6         474.94  4,552.41      5,224.36  \n",
       "9000000002            5         289.99  4,552.41      2,029.90  \n",
       "9000000003            6         474.94  4,552.41      5,224.36  \n",
       "9000000004            6         474.94  4,552.41      5,224.36  \n",
       "9000000005            1            NaN  1,482.35          1.00  "
      ]
     },
     "execution_count": 2,
     "metadata": {},
     "output_type": "execute_result"
    }
   ],
   "source": [
    "# Lectura de los datos\n",
    "data = pd.read_parquet('../datasets/train_preprocesado.parquet')\n",
    "test = pd.read_parquet('../datasets/test_preprocesado.parquet')\n",
    "\n",
    "# Transponemos los índices\n",
    "data.index = data['id']\n",
    "test.index = test['id']\n",
    "\n",
    "# Nos deshacemos de las variables que no aportan\n",
    "data.drop(['id'], inplace=True, axis=1)\n",
    "test.drop(['id', 'fecha_fraude'], inplace=True, axis=1)\n",
    "\n",
    "data.head()"
   ]
  },
  {
   "cell_type": "markdown",
   "metadata": {},
   "source": [
    "### *Separar*"
   ]
  },
  {
   "cell_type": "code",
   "execution_count": 3,
   "metadata": {},
   "outputs": [
    {
     "name": "stdout",
     "output_type": "stream",
     "text": [
      "80% Train set: ((2368, 21), (2368,))\n",
      "20% Validation set: ((592, 21), (592,))\n"
     ]
    }
   ],
   "source": [
    "from sklearn.model_selection import train_test_split\n",
    "\n",
    "# Separamos los features y el target\n",
    "X = data.loc[:, data.columns != 'fraude']\n",
    "y = data.loc[:, data.columns == 'fraude'].squeeze()\n",
    "\n",
    "# Splitting\n",
    "X_train, X_val, y_train, y_val = train_test_split(X, y, train_size=0.80, test_size=0.20, random_state=25)\n",
    "print(f'80% Train set: {X_train.shape, y_train.shape}')\n",
    "print(f'20% Validation set: {X_val.shape, y_val.shape}')"
   ]
  },
  {
   "cell_type": "markdown",
   "metadata": {},
   "source": [
    "### *Capturar*"
   ]
  },
  {
   "cell_type": "code",
   "execution_count": 4,
   "metadata": {},
   "outputs": [
    {
     "name": "stdout",
     "output_type": "stream",
     "text": [
      "\t\tTipos de variables\n",
      "Hay 12 variables continuas\n",
      "Hay 2 variables discretas\n",
      "Hay 2 variables temporales\n",
      "Hay 5 variables categóricas\n"
     ]
    }
   ],
   "source": [
    "# Función para capturar los tipos de variables\n",
    "def capture_variables(data:pd.DataFrame) -> tuple:\n",
    "    \n",
    "    \"\"\"\n",
    "    Function to capture the types of Dataframe variables\n",
    "\n",
    "    Args:\n",
    "        dataframe: DataFrame\n",
    "    \n",
    "    Return:\n",
    "        variables: tuple\n",
    "    \n",
    "    The order to unpack variables:\n",
    "    1. continuous\n",
    "    2. categoricals\n",
    "    3. discretes\n",
    "    4. temporaries\n",
    "    \"\"\"\n",
    "\n",
    "    numericals = list(data.select_dtypes(include = [np.int64, np.int32, np.float64, np.float32]).columns)\n",
    "    categoricals = list(data.select_dtypes(include = ['category', 'object', 'bool']).columns)\n",
    "    temporaries = list(data.select_dtypes(include = ['datetime', 'timedelta']).columns)\n",
    "    discretes = [col for col in data[numericals] if len(data[numericals][col].unique()) <= 10]\n",
    "    continuous = [col for col in data[numericals] if col not in discretes]\n",
    "\n",
    "    # Variables\n",
    "    print('\\t\\tTipos de variables')\n",
    "    print(f'Hay {len(continuous)} variables continuas')\n",
    "    print(f'Hay {len(discretes)} variables discretas')\n",
    "    print(f'Hay {len(temporaries)} variables temporales')\n",
    "    print(f'Hay {len(categoricals)} variables categóricas')\n",
    "\n",
    "    variables = tuple((continuous, categoricals, discretes, temporaries))\n",
    "    \n",
    "    # Retornamos una tupla de listas\n",
    "    return variables\n",
    "\n",
    "\n",
    "# Captura de variables\n",
    "continuous, categoricals, discretes, temporaries = capture_variables(data=X)"
   ]
  },
  {
   "cell_type": "code",
   "execution_count": 5,
   "metadata": {},
   "outputs": [
    {
     "data": {
      "text/plain": [
       "diasem       category\n",
       "nropaises    category\n",
       "dtype: object"
      ]
     },
     "execution_count": 5,
     "metadata": {},
     "output_type": "execute_result"
    }
   ],
   "source": [
    "# Transformamos las discretas como categóricas\n",
    "X[discretes], X_train[discretes], X_val[discretes] = [subset.loc[:, discretes].astype('category') for subset in [X, X_train, X_val]]\n",
    "X[discretes].dtypes"
   ]
  },
  {
   "cell_type": "code",
   "execution_count": 6,
   "metadata": {},
   "outputs": [
    {
     "name": "stdout",
     "output_type": "stream",
     "text": [
      "Variables continuas por encima del 5% de datos faltantes:\n",
      "['dist_mean_nal']\n",
      "\n",
      "Variables continuas por debajo del 5% de datos faltantes:\n",
      "['oficina_vin', 'edad', 'ingresos', 'egresos']\n",
      "\n",
      "Variables categóricas por encima del 5% de datos faltantes:\n",
      "[]\n",
      "\n",
      "Variables categóricas por debajo del 5% de datos faltantes:\n",
      "['sexo', 'segmento']\n",
      "\n",
      "Variables discretas por encima del 5% de datos faltantes:\n",
      "[]\n",
      "\n",
      "Variables discretas por debajo del 5% de datos faltantes:\n",
      "[]\n"
     ]
    }
   ],
   "source": [
    "# Variables Continuas\n",
    "# Capturemos las variables con alto porcentaje de datos faltantes (más del 5%)\n",
    "continuous_more_than_5perc = [var for var in continuous if X[var].isnull().mean() > 0.05]\n",
    "print(f'Variables continuas por encima del 5% de datos faltantes:\\n{continuous_more_than_5perc}\\n')\n",
    "\n",
    "# Capturemos las variables con menor porcentaje de datos faltantes (menos del 5%)\n",
    "continuous_less_than_5perc = [var for var in continuous if X[var].isnull().sum() > 0 and X[var].isnull().mean() <= 0.05]\n",
    "print(f'Variables continuas por debajo del 5% de datos faltantes:\\n{continuous_less_than_5perc}\\n')\n",
    "\n",
    "# Variables Categóricas\n",
    "# Capturemos las variables con alto porcentaje de datos faltantes (más del 5%)\n",
    "categoricals_more_than_5perc = [var for var in categoricals if X[var].isnull().mean() > 0.05]\n",
    "print(f'Variables categóricas por encima del 5% de datos faltantes:\\n{categoricals_more_than_5perc}\\n')\n",
    "\n",
    "# Capturemos las variables con menor porcentaje de datos faltantes (menos del 5%)\n",
    "categoricals_less_than_5perc = [var for var in categoricals if X[var].isnull().sum() > 0 and X[var].isnull().mean() <= 0.05]\n",
    "print(f'Variables categóricas por debajo del 5% de datos faltantes:\\n{categoricals_less_than_5perc}\\n')\n",
    "\n",
    "# Variables Discretas\n",
    "# Capturemos las variables con alto porcentaje de datos faltantes (más del 5%)\n",
    "discretes_more_than_5perc = [var for var in discretes if X[var].isnull().mean() > 0.05]\n",
    "print(f'Variables discretas por encima del 5% de datos faltantes:\\n{discretes_more_than_5perc}\\n')\n",
    "\n",
    "# Capturemos las variables con menor porcentaje de datos faltantes (menos del 5%)\n",
    "discretes_less_than_5perc = [var for var in discretes if X[var].isnull().sum() > 0 and X[var].isnull().mean() <= 0.05]\n",
    "print(f'Variables discretas por debajo del 5% de datos faltantes:\\n{discretes_less_than_5perc}')"
   ]
  },
  {
   "cell_type": "code",
   "execution_count": 7,
   "metadata": {},
   "outputs": [
    {
     "name": "stdout",
     "output_type": "stream",
     "text": [
      "\t\t\t=== IMPUTACIÓN ===\n",
      "\n",
      "• Las variables continuas que están por debajo del 5% de datos faltantes: ['oficina_vin', 'edad', 'ingresos', 'egresos'], se les hará una imputación por una `muestra aleatoria`.\n",
      "\n",
      "Mientras que las continuas por encima del 5%: ['dist_mean_nal'], se le hará una imputación a la `media` con un indicador de ausencia.\n",
      "\n",
      "• Las variables categóricas con datos faltantes por debajo del 5%: ['sexo', 'segmento'] se imputará por una `muestra aleatoria`.\n"
     ]
    }
   ],
   "source": [
    "print('\\t\\t\\t=== IMPUTACIÓN ===\\n')\n",
    "print(f\"\"\"• Las variables continuas que están por debajo del 5% de datos faltantes: {continuous_less_than_5perc}, se les hará una imputación por una `muestra aleatoria`.\n",
    "\n",
    "Mientras que las continuas por encima del 5%: {continuous_more_than_5perc}, se le hará una imputación a la `media` con un indicador de ausencia.\\n\"\"\")\n",
    "\n",
    "print(f\"\"\"• Las variables categóricas con datos faltantes por debajo del 5%: {categoricals_less_than_5perc} se imputará por una `muestra aleatoria`.\"\"\")"
   ]
  },
  {
   "cell_type": "code",
   "execution_count": 8,
   "metadata": {},
   "outputs": [
    {
     "name": "stdout",
     "output_type": "stream",
     "text": [
      "Variables categórcias con alta cardinalidad: ['cod_pais']\n",
      "Variables categórcias con baja cardinalidad: ['canal1', 'canal', 'sexo', 'segmento']\n"
     ]
    }
   ],
   "source": [
    "# Variables categóricas con alta cardinalidad y baja cardinalidad\n",
    "# Por medio del EDA definimos 2 etiquetas en la alta cardinalidad y 4 en la baja cardinalidad de las variables categóricas\n",
    "categoricals_high_cardinality = ['cod_pais']\n",
    "categoricals_low_cardinality = [var for var in categoricals if var not in categoricals_high_cardinality]\n",
    "print(f'Variables categórcias con alta cardinalidad: {categoricals_high_cardinality}')\n",
    "print(f'Variables categórcias con baja cardinalidad: {categoricals_low_cardinality}')"
   ]
  },
  {
   "cell_type": "code",
   "execution_count": 9,
   "metadata": {},
   "outputs": [
    {
     "name": "stdout",
     "output_type": "stream",
     "text": [
      "Variables discretas con alta cardinalidad: ['nropaises']\n",
      "Variables discretas con baja cardinalidad: ['diasem']\n"
     ]
    }
   ],
   "source": [
    "# Variables discretas con alta cardinalidad y baja cardinalidad\n",
    "# Por medio del EDA definimos 7 etiquetas en la alta cardinalidad y 5 en la baja cardinalidad de las variables discretas\n",
    "discretes_high_cardinality = ['nropaises']\n",
    "discretes_low_cardinality = [var for var in discretes if var not in discretes_high_cardinality]\n",
    "\n",
    "print(f'Variables discretas con alta cardinalidad: {discretes_high_cardinality}')\n",
    "print(f'Variables discretas con baja cardinalidad: {discretes_low_cardinality}')"
   ]
  },
  {
   "cell_type": "markdown",
   "metadata": {},
   "source": [
    "### *Pipeline*"
   ]
  },
  {
   "cell_type": "code",
   "execution_count": 10,
   "metadata": {},
   "outputs": [],
   "source": [
    "# Pipeline\n",
    "from sklearn.pipeline import Pipeline\n",
    "\n",
    "# Ingeniería de variables\n",
    "from feature_engine.selection import DropFeatures\n",
    "from feature_engine.imputation import AddMissingIndicator\n",
    "from feature_engine.imputation import MeanMedianImputer\n",
    "from feature_engine.imputation import RandomSampleImputer\n",
    "from feature_engine.imputation import CategoricalImputer\n",
    "from feature_engine.encoding import RareLabelEncoder\n",
    "from feature_engine.discretisation import EqualFrequencyDiscretiser\n",
    "from feature_engine.encoding import OrdinalEncoder\n",
    "\n",
    "# Selección de variables\n",
    "from feature_engine.selection import DropConstantFeatures\n",
    "from feature_engine.selection import DropDuplicateFeatures\n",
    "from feature_engine.selection import SmartCorrelatedSelection\n",
    "from sklearn.feature_selection import SelectKBest\n",
    "from sklearn.feature_selection import chi2\n",
    "\n",
    "\n",
    "pipe = Pipeline([\n",
    "    # === ELIMINACIÓN ===\n",
    "    # === Temporales ===\n",
    "    ('tmp_to_drop', DropFeatures(features_to_drop=temporaries)),\n",
    "    \n",
    "    # === IMPUTACIÓN ===\n",
    "    # === Continuas ===\n",
    "    ('imputer_missing_indicator', AddMissingIndicator(variables=continuous_more_than_5perc)), # Indicador de ausencia\n",
    "    ('imputer_mean_continuous', MeanMedianImputer(imputation_method='mean', variables=continuous_more_than_5perc)), # Imputación por la media\n",
    "    ('imputer_random_continuous_less_than_5perc', RandomSampleImputer(random_state=25, variables=continuous_less_than_5perc)), # Imputación por muestra aleatoria\n",
    "\n",
    "    # === Categóricas ===\n",
    "    ('imputer_missing_categoricals_less_than_5perc', RandomSampleImputer(variables=categoricals_less_than_5perc, random_state=42)),\n",
    "        \n",
    "    # === ETIQUETAS RARAS ===\n",
    "    # === Categóricas ===\n",
    "    ('rare_label_cat_high_cardinality', RareLabelEncoder(tol=0.05, n_categories=2, \n",
    "                                                         variables=categoricals_high_cardinality)),\n",
    "    ('rare_label_cat_low_cardinality', RareLabelEncoder(tol=0.05, n_categories=4,\n",
    "                                                        variables=categoricals_low_cardinality)),\n",
    "    # === Discretas ===\n",
    "    ('rare_label_disc_high_cardinality', RareLabelEncoder(tol=0.05, n_categories=7, \n",
    "                                                          variables=discretes_high_cardinality)),\n",
    "    ('rare_label_disc_low_cardinality', RareLabelEncoder(tol=0.05, n_categories=5, \n",
    "                                                         variables=discretes_low_cardinality)),\n",
    "    \n",
    "    # === DISCRETIZACIÓN ===\n",
    "    # === Discretizador ===\n",
    "    ('discretiser', EqualFrequencyDiscretiser(q=10, variables=continuous, return_object=True)),\n",
    "    \n",
    "    # === CODIFICACIÓN ===\n",
    "    ('encoder', OrdinalEncoder(encoding_method='ordered', variables=continuous+categoricals+discretes)), # Monotonicidad\n",
    "    \n",
    "    # === FILTRO BÁSICO ===\n",
    "    # === Cuasi-constantes ===\n",
    "    ('constant', DropConstantFeatures(tol=0.998)),\n",
    "    \n",
    "    # === Duplicados ===\n",
    "    ('duplicated', DropDuplicateFeatures()),\n",
    "    \n",
    "    # === Correlacionados ===\n",
    "    ('correlation', SmartCorrelatedSelection(method='pearson', cv=5)),\n",
    "    \n",
    "    # === FILTRO ESTADÍSTICO ===\n",
    "    # === Test-Chi² ===\n",
    "    ('chi2', SelectKBest(chi2, k=6))\n",
    "])"
   ]
  },
  {
   "cell_type": "markdown",
   "metadata": {},
   "source": [
    "### *Ajustar y Transformar*"
   ]
  },
  {
   "cell_type": "code",
   "execution_count": 11,
   "metadata": {},
   "outputs": [
    {
     "name": "stdout",
     "output_type": "stream",
     "text": [
      "(2368, 6) (592, 6) (100, 6)\n"
     ]
    }
   ],
   "source": [
    "# 1. Ajustemos el Pipeline con los datos de entrenamiento\n",
    "pipe.fit(X_train, y_train)\n",
    "\n",
    "# 2. Hacemos una transformación: trasladando los cambios del train a los otros conjuntos de datos\n",
    "X_train = pd.DataFrame(pipe.transform(X_train), columns=pipe.get_feature_names_out(), index=X_train.index)\n",
    "X_val = pd.DataFrame(pipe.transform(X_val), columns=pipe.get_feature_names_out(), index=X_val.index)\n",
    "test = pd.DataFrame(pipe.transform(test), columns=pipe.get_feature_names_out(), index=test.index)\n",
    "\n",
    "# Dimensionalidad\n",
    "print(X_train.shape, X_val.shape, test.shape)"
   ]
  },
  {
   "cell_type": "markdown",
   "metadata": {},
   "source": [
    "### *Resultados*"
   ]
  },
  {
   "cell_type": "code",
   "execution_count": 12,
   "metadata": {},
   "outputs": [
    {
     "data": {
      "text/html": [
       "<div>\n",
       "<style scoped>\n",
       "    .dataframe tbody tr th:only-of-type {\n",
       "        vertical-align: middle;\n",
       "    }\n",
       "\n",
       "    .dataframe tbody tr th {\n",
       "        vertical-align: top;\n",
       "    }\n",
       "\n",
       "    .dataframe thead th {\n",
       "        text-align: right;\n",
       "    }\n",
       "</style>\n",
       "<table border=\"1\" class=\"dataframe\">\n",
       "  <thead>\n",
       "    <tr style=\"text-align: right;\">\n",
       "      <th></th>\n",
       "      <th>valor</th>\n",
       "      <th>canal1</th>\n",
       "      <th>diames</th>\n",
       "      <th>edad</th>\n",
       "      <th>ingresos</th>\n",
       "      <th>dist_mean_nal</th>\n",
       "    </tr>\n",
       "    <tr>\n",
       "      <th>id</th>\n",
       "      <th></th>\n",
       "      <th></th>\n",
       "      <th></th>\n",
       "      <th></th>\n",
       "      <th></th>\n",
       "      <th></th>\n",
       "    </tr>\n",
       "  </thead>\n",
       "  <tbody>\n",
       "    <tr>\n",
       "      <th>241673693</th>\n",
       "      <td>1</td>\n",
       "      <td>0</td>\n",
       "      <td>0</td>\n",
       "      <td>5</td>\n",
       "      <td>2</td>\n",
       "      <td>7</td>\n",
       "    </tr>\n",
       "    <tr>\n",
       "      <th>843868634</th>\n",
       "      <td>9</td>\n",
       "      <td>1</td>\n",
       "      <td>4</td>\n",
       "      <td>4</td>\n",
       "      <td>3</td>\n",
       "      <td>2</td>\n",
       "    </tr>\n",
       "    <tr>\n",
       "      <th>5951751482</th>\n",
       "      <td>8</td>\n",
       "      <td>1</td>\n",
       "      <td>5</td>\n",
       "      <td>0</td>\n",
       "      <td>4</td>\n",
       "      <td>6</td>\n",
       "    </tr>\n",
       "    <tr>\n",
       "      <th>8879690992</th>\n",
       "      <td>5</td>\n",
       "      <td>0</td>\n",
       "      <td>9</td>\n",
       "      <td>2</td>\n",
       "      <td>1</td>\n",
       "      <td>2</td>\n",
       "    </tr>\n",
       "    <tr>\n",
       "      <th>2864541356</th>\n",
       "      <td>3</td>\n",
       "      <td>0</td>\n",
       "      <td>1</td>\n",
       "      <td>0</td>\n",
       "      <td>3</td>\n",
       "      <td>5</td>\n",
       "    </tr>\n",
       "    <tr>\n",
       "      <th>...</th>\n",
       "      <td>...</td>\n",
       "      <td>...</td>\n",
       "      <td>...</td>\n",
       "      <td>...</td>\n",
       "      <td>...</td>\n",
       "      <td>...</td>\n",
       "    </tr>\n",
       "    <tr>\n",
       "      <th>732906462</th>\n",
       "      <td>0</td>\n",
       "      <td>1</td>\n",
       "      <td>4</td>\n",
       "      <td>8</td>\n",
       "      <td>8</td>\n",
       "      <td>9</td>\n",
       "    </tr>\n",
       "    <tr>\n",
       "      <th>4180048274</th>\n",
       "      <td>3</td>\n",
       "      <td>1</td>\n",
       "      <td>7</td>\n",
       "      <td>4</td>\n",
       "      <td>8</td>\n",
       "      <td>8</td>\n",
       "    </tr>\n",
       "    <tr>\n",
       "      <th>4270561811</th>\n",
       "      <td>9</td>\n",
       "      <td>0</td>\n",
       "      <td>2</td>\n",
       "      <td>3</td>\n",
       "      <td>0</td>\n",
       "      <td>3</td>\n",
       "    </tr>\n",
       "    <tr>\n",
       "      <th>9000000319</th>\n",
       "      <td>1</td>\n",
       "      <td>0</td>\n",
       "      <td>1</td>\n",
       "      <td>9</td>\n",
       "      <td>5</td>\n",
       "      <td>3</td>\n",
       "    </tr>\n",
       "    <tr>\n",
       "      <th>6571266576</th>\n",
       "      <td>4</td>\n",
       "      <td>0</td>\n",
       "      <td>8</td>\n",
       "      <td>4</td>\n",
       "      <td>7</td>\n",
       "      <td>7</td>\n",
       "    </tr>\n",
       "  </tbody>\n",
       "</table>\n",
       "<p>2368 rows × 6 columns</p>\n",
       "</div>"
      ],
      "text/plain": [
       "            valor  canal1  diames  edad  ingresos  dist_mean_nal\n",
       "id                                                              \n",
       "241673693       1       0       0     5         2              7\n",
       "843868634       9       1       4     4         3              2\n",
       "5951751482      8       1       5     0         4              6\n",
       "8879690992      5       0       9     2         1              2\n",
       "2864541356      3       0       1     0         3              5\n",
       "...           ...     ...     ...   ...       ...            ...\n",
       "732906462       0       1       4     8         8              9\n",
       "4180048274      3       1       7     4         8              8\n",
       "4270561811      9       0       2     3         0              3\n",
       "9000000319      1       0       1     9         5              3\n",
       "6571266576      4       0       8     4         7              7\n",
       "\n",
       "[2368 rows x 6 columns]"
      ]
     },
     "execution_count": 12,
     "metadata": {},
     "output_type": "execute_result"
    }
   ],
   "source": [
    "# Resultados de las transformaciones\n",
    "X_train"
   ]
  },
  {
   "cell_type": "markdown",
   "metadata": {},
   "source": [
    "### *Función de coste/pérdida*"
   ]
  },
  {
   "cell_type": "code",
   "execution_count": 13,
   "metadata": {},
   "outputs": [],
   "source": [
    "from sklearn.ensemble import RandomForestClassifier\n",
    "from sklearn.model_selection import StratifiedKFold\n",
    "from sklearn.model_selection import cross_validate\n",
    "from sklearn.metrics import roc_auc_score\n",
    "\n",
    "# K-Fold estratificado\n",
    "skfold = StratifiedKFold(n_splits=10, shuffle=True, random_state=25)\n",
    "\n",
    "# Función de coste para evaluar el rendimiento del clasificador\n",
    "def cost_function(X_train, y_train, X_val, y_val):\n",
    "    \n",
    "    # Instanciamos nuestro clasificador\n",
    "    rf = RandomForestClassifier(n_estimators=200, random_state=39, max_depth=4, class_weight='balanced')\n",
    "    rf.fit(X_train, y_train)\n",
    "\n",
    "    # Resultados de la validación cruzada\n",
    "    scores = cross_validate(rf,\n",
    "                            X_train,\n",
    "                            y_train,\n",
    "                            scoring='roc_auc',\n",
    "                            cv=skfold,\n",
    "                            return_estimator=True,\n",
    "                            return_train_score=True,\n",
    "                            n_jobs=-1)\n",
    "    \n",
    "    # Rendimiento con el conjunto de train\n",
    "    train_means = np.mean(scores['train_score'])\n",
    "    train_std = np.std(scores['train_score'])\n",
    "\n",
    "    # Rendimiento con el conjunto de validation\n",
    "    val_means = np.mean(scores['test_score'])\n",
    "    val_std = np.std(scores['test_score'])\n",
    "\n",
    "    # Obtenemos el mejor estimador entrenado\n",
    "    best_model = [estimator for idx, estimator in enumerate(scores['estimator']) if idx == np.argmax(scores['test_score'])][0]\n",
    "    \n",
    "    print('=== Train set ===')\n",
    "    print(f'Mejor modelo de {type(best_model).__name__} con el conjunto de entrenamiento: {100*train_means:0.2f}% de media +/- {100*train_std:0.2f}% de desviación estándar\\n')\n",
    "\n",
    "    print('=== Validation set ===')\n",
    "    print(f'Mejor modelo de {type(best_model).__name__} con el conjunto de validación: {100*val_means:0.2f}% de media +/- {100*val_std:0.2f}% de desviación estándar')\n",
    "\n",
    "    return best_model\n"
   ]
  },
  {
   "cell_type": "markdown",
   "metadata": {},
   "source": [
    "### *Evaluar*"
   ]
  },
  {
   "cell_type": "code",
   "execution_count": 14,
   "metadata": {},
   "outputs": [
    {
     "name": "stdout",
     "output_type": "stream",
     "text": [
      "=== Train set ===\n",
      "Mejor modelo de RandomForestClassifier con el conjunto de entrenamiento: 90.28% de media +/- 0.16% de desviación estándar\n",
      "\n",
      "=== Validation set ===\n",
      "Mejor modelo de RandomForestClassifier con el conjunto de validación: 88.68% de media +/- 1.70% de desviación estándar\n"
     ]
    }
   ],
   "source": [
    "# Función de coste\n",
    "model = cost_function(X_train, y_train, X_val, y_val)"
   ]
  },
  {
   "cell_type": "markdown",
   "metadata": {},
   "source": [
    "### *Analizar*"
   ]
  },
  {
   "cell_type": "code",
   "execution_count": 15,
   "metadata": {},
   "outputs": [],
   "source": [
    "from sklearn.metrics import roc_curve, auc\n",
    "\n",
    "def roc_curve_plot(model):\n",
    "    \n",
    "    # Predecir probabilidades de clase para datos de prueba\n",
    "    y_pred = model.predict_proba(X_val)[:, 1]\n",
    "\n",
    "    # Calcular curva ROC y área bajo la curva\n",
    "    fpr, tpr, thresholds = roc_curve(y_val, y_pred)\n",
    "    roc_auc = auc(fpr, tpr)\n",
    "\n",
    "    # Crear gráfico de curva ROC\n",
    "    plt.plot(fpr, tpr, label='ROC curve (area = %0.2f)' % roc_auc, color='dodgerblue')\n",
    "    plt.plot([0, 1], [0, 1], 'k--', color='crimson')\n",
    "    plt.xlim([0.0, 1.0])\n",
    "    plt.ylim([0.0, 1.0])\n",
    "    plt.xlabel('False Positive Rate')\n",
    "    plt.ylabel('True Positive Rate')\n",
    "    plt.title('Receiver Operating Characteristic\\n')\n",
    "    plt.legend(loc='lower right')\n",
    "    plt.grid()\n",
    "    plt.tight_layout()\n",
    "    "
   ]
  },
  {
   "cell_type": "markdown",
   "metadata": {},
   "source": [
    "### *Curva ROC*\n",
    "* La curva ROC (Receiver Operating Characteristic) es una herramienta utilizada en machine learning para evaluar el desempeño de un modelo de clasificación binaria. La curva ROC es una representación gráfica de la relación entre la tasa de verdaderos positivos (TPR) y la tasa de falsos positivos (FPR) a lo largo de diferentes umbrales de clasificación.\n",
    "\n",
    "* La TPR se define como la proporción de casos positivos que se identifican correctamente como positivos, mientras que la FPR se define como la proporción de casos negativos que se identifican incorrectamente como positivos. En otras palabras, la TPR mide la sensibilidad del modelo para detectar casos positivos, mientras que la FPR mide la especificidad del modelo para identificar casos negativos."
   ]
  },
  {
   "cell_type": "code",
   "execution_count": 16,
   "metadata": {},
   "outputs": [
    {
     "data": {
      "image/png": "[encoded data removed]",
      "text/plain": [
       "<Figure size 640x480 with 1 Axes>"
      ]
     },
     "metadata": {},
     "output_type": "display_data"
    }
   ],
   "source": [
    "# Curva ROC con el modelo de línea base\n",
    "roc_curve_plot(model)"
   ]
  },
  {
   "cell_type": "markdown",
   "metadata": {},
   "source": [
    "### *Importancia de los Predictores*\n",
    "\n",
    "* La **importancia de los predictores** (también conocida como importancia de las variables) en un modelo de Machine Learning es una medida de la contribución de cada variable para explicar la varianza en los datos y predecir la variable objetivo. En otras palabras, la **importancia de los predictores** indica cuán relevantes son las variables para el modelo y cuán bien pueden explicar la variable objetivo.\n",
    "\n",
    "* En un modelo de **Random Forest**, la **importancia de los predictores** se calcula a partir de la reducción de la impureza en los nodos de los árboles. La impureza se refiere a la mezcla de diferentes clases en un nodo, y la reducción de la impureza se logra al dividir los nodos en subconjuntos más homogéneos.\n",
    "\n",
    "* La **importancia de los predictores** se calcula para cada variable del modelo, y se puede expresar como un porcentaje o una puntuación normalizada. Las variables que tienen una mayor importancia son las que contribuyen más a la reducción de la impureza y, por lo tanto, son más relevantes para el modelo."
   ]
  },
  {
   "cell_type": "code",
   "execution_count": 17,
   "metadata": {},
   "outputs": [
    {
     "data": {
      "image/png": "[encoded data removed]",
      "text/plain": [
       "<Figure size 600x900 with 1 Axes>"
      ]
     },
     "metadata": {},
     "output_type": "display_data"
    }
   ],
   "source": [
    "# Pesos de los coeficientes\n",
    "coeficientes = dict(zip(model.feature_names_in_, [predictor for predictor in model.feature_importances_]))\n",
    "coef_df = pd.DataFrame.from_dict(coeficientes, orient='index', columns=['coeficientes'])\n",
    "coef_df.sort_values('coeficientes', ascending=True, inplace=True)\n",
    "\n",
    "# Graficar barras horizontales\n",
    "coef_df.sort_values('coeficientes', ascending=True).plot.barh(figsize=(6, 9), color='xkcd:dark orange',  width=0.5,\n",
    "                                                              edgecolor='white', lw=0.5, legend=False)\n",
    "\n",
    "# Agregar etiquetas y títulos\n",
    "plt.title('Importancia de los predictores del modelo\\n')\n",
    "plt.xlabel('Coeficientes')\n",
    "plt.ylabel('Predictores')\n",
    "plt.tight_layout()"
   ]
  },
  {
   "cell_type": "code",
   "execution_count": 18,
   "metadata": {},
   "outputs": [
    {
     "data": {
      "text/html": [
       "<div>\n",
       "<style scoped>\n",
       "    .dataframe tbody tr th:only-of-type {\n",
       "        vertical-align: middle;\n",
       "    }\n",
       "\n",
       "    .dataframe tbody tr th {\n",
       "        vertical-align: top;\n",
       "    }\n",
       "\n",
       "    .dataframe thead th {\n",
       "        text-align: right;\n",
       "    }\n",
       "</style>\n",
       "<table border=\"1\" class=\"dataframe\">\n",
       "  <thead>\n",
       "    <tr style=\"text-align: right;\">\n",
       "      <th></th>\n",
       "      <th>0</th>\n",
       "      <th>1</th>\n",
       "    </tr>\n",
       "    <tr>\n",
       "      <th>id</th>\n",
       "      <th></th>\n",
       "      <th></th>\n",
       "    </tr>\n",
       "  </thead>\n",
       "  <tbody>\n",
       "    <tr>\n",
       "      <th>7352997899</th>\n",
       "      <td>0.85</td>\n",
       "      <td>0.15</td>\n",
       "    </tr>\n",
       "    <tr>\n",
       "      <th>6771737346</th>\n",
       "      <td>0.74</td>\n",
       "      <td>0.26</td>\n",
       "    </tr>\n",
       "    <tr>\n",
       "      <th>7642897602</th>\n",
       "      <td>0.63</td>\n",
       "      <td>0.37</td>\n",
       "    </tr>\n",
       "    <tr>\n",
       "      <th>9000000341</th>\n",
       "      <td>0.63</td>\n",
       "      <td>0.37</td>\n",
       "    </tr>\n",
       "    <tr>\n",
       "      <th>7131642191</th>\n",
       "      <td>0.85</td>\n",
       "      <td>0.15</td>\n",
       "    </tr>\n",
       "    <tr>\n",
       "      <th>7563511817</th>\n",
       "      <td>0.17</td>\n",
       "      <td>0.83</td>\n",
       "    </tr>\n",
       "    <tr>\n",
       "      <th>4370564598</th>\n",
       "      <td>0.64</td>\n",
       "      <td>0.36</td>\n",
       "    </tr>\n",
       "    <tr>\n",
       "      <th>1145530828</th>\n",
       "      <td>0.43</td>\n",
       "      <td>0.57</td>\n",
       "    </tr>\n",
       "    <tr>\n",
       "      <th>9000000409</th>\n",
       "      <td>0.12</td>\n",
       "      <td>0.88</td>\n",
       "    </tr>\n",
       "    <tr>\n",
       "      <th>728357205</th>\n",
       "      <td>0.87</td>\n",
       "      <td>0.13</td>\n",
       "    </tr>\n",
       "  </tbody>\n",
       "</table>\n",
       "</div>"
      ],
      "text/plain": [
       "              0    1\n",
       "id                  \n",
       "7352997899 0.85 0.15\n",
       "6771737346 0.74 0.26\n",
       "7642897602 0.63 0.37\n",
       "9000000341 0.63 0.37\n",
       "7131642191 0.85 0.15\n",
       "7563511817 0.17 0.83\n",
       "4370564598 0.64 0.36\n",
       "1145530828 0.43 0.57\n",
       "9000000409 0.12 0.88\n",
       "728357205  0.87 0.13"
      ]
     },
     "execution_count": 18,
     "metadata": {},
     "output_type": "execute_result"
    }
   ],
   "source": [
    "# Predicciones del modelo\n",
    "pd.DataFrame(model.predict_proba(X_val), columns=[0, 1], index=X_val.index).sample(10, random_state=777)"
   ]
  },
  {
   "cell_type": "code",
   "execution_count": 19,
   "metadata": {},
   "outputs": [
    {
     "data": {
      "text/plain": [
       "id\n",
       "7352997899    0\n",
       "6771737346    0\n",
       "7642897602    1\n",
       "9000000341    0\n",
       "7131642191    0\n",
       "7563511817    1\n",
       "4370564598    0\n",
       "1145530828    0\n",
       "9000000409    1\n",
       "728357205     0\n",
       "Name: fraude, dtype: int64"
      ]
     },
     "execution_count": 19,
     "metadata": {},
     "output_type": "execute_result"
    }
   ],
   "source": [
    "# Etiquetas reales\n",
    "y_val.sample(10, random_state=777)"
   ]
  },
  {
   "cell_type": "markdown",
   "metadata": {},
   "source": [
    "### *Métricas de Evaluación*\n",
    "* Las métricas de evaluación son medidas que se utilizan para evaluar el desempeño de un modelo de Machine Learning en una tarea específica, como la clasificación o la regresión. El reporte de clasificación es una de estas métricas y se utiliza específicamente para evaluar el desempeño de un modelo de clasificación.\n",
    "\n",
    "* El reporte de clasificación es una tabla que muestra diversas métricas de evaluación para cada clase del modelo de clasificación. Algunas de las métricas que se incluyen en el reporte de clasificación son:\n",
    "\n",
    "    * Precisión (precision): la proporción de predicciones positivas que son verdaderas positivas. En otras palabras, mide la exactitud de las predicciones positivas del modelo.\n",
    "\n",
    "    * Recall (sensibilidad): la proporción de verdaderos positivos que fueron correctamente identificados por el modelo. En otras palabras, mide la capacidad del modelo para detectar todas las instancias positivas.\n",
    "\n",
    "    * F1-score: una medida de la media armónica entre la precisión y el recall. Es útil para encontrar un balance entre la precisión y el recall.\n",
    "\n",
    "    * Support: el número de instancias en la clase correspondiente."
   ]
  },
  {
   "cell_type": "code",
   "execution_count": 20,
   "metadata": {},
   "outputs": [
    {
     "name": "stdout",
     "output_type": "stream",
     "text": [
      "              precision    recall  f1-score   support\n",
      "\n",
      "           0       0.89      0.85      0.87       440\n",
      "           1       0.62      0.69      0.65       152\n",
      "\n",
      "    accuracy                           0.81       592\n",
      "   macro avg       0.75      0.77      0.76       592\n",
      "weighted avg       0.82      0.81      0.81       592\n",
      "\n"
     ]
    }
   ],
   "source": [
    "# Reporte de clasificación\n",
    "from sklearn.metrics import classification_report\n",
    "\n",
    "print(classification_report(y_val, model.predict(X_val)))"
   ]
  },
  {
   "cell_type": "markdown",
   "metadata": {},
   "source": [
    "### *Brier Score Loss*\n",
    "\n",
    "* El **Brier Score** es una medida de la calidad de las predicciones probabilísticas. El **Brier Score Loss**  es una medida de la precisión de un modelo de clasificación que emite predicciones como probabilidades.\n",
    "\n",
    "* El **Brier Score Loss**  mide la discrepancia entre las probabilidades predichas por un modelo y las probabilidades verdaderas de los eventos observados. Cuanto menor sea el **Brier Score Loss**, mejor será el modelo en términos de precisión de las predicciones."
   ]
  },
  {
   "cell_type": "code",
   "execution_count": 21,
   "metadata": {},
   "outputs": [
    {
     "name": "stdout",
     "output_type": "stream",
     "text": [
      "ROC-AUC de RandomForestClassifier: 87.18%\n",
      "Brier Score de RandomForestClassifier: 14.58%\n"
     ]
    }
   ],
   "source": [
    "from sklearn.metrics import brier_score_loss\n",
    "\n",
    "# Predecir probabilidades de clase para datos de prueba\n",
    "y_pred = model.predict_proba(X_val)[:, 1]\n",
    "\n",
    "# Métricas\n",
    "print(f'ROC-AUC de {type(model).__name__}: {100*roc_auc_score(y_val, y_pred):0.2f}%')\n",
    "print(f'Brier Score de {type(model).__name__}: {100*brier_score_loss(y_val, y_pred):0.2f}%')"
   ]
  },
  {
   "cell_type": "markdown",
   "metadata": {},
   "source": [
    "### *Calibrar*\n",
    "\n",
    "* Calibrar las probabilidades de un modelo es importante para asegurarse de que las predicciones probabilísticas sean precisas y confiables. Un modelo bien calibrado es aquel en el que las probabilidades predichas se corresponden de manera precisa con la frecuencia con la que los eventos reales ocurren.\n",
    "\n",
    "* La calibración de las probabilidades es especialmente importante en los modelos de clasificación que emiten probabilidades en lugar de predicciones discretas. Estos modelos suelen ser utilizados en tareas en las que es importante conocer la probabilidad de que ocurra un evento, como en la clasificación binaria o en la detección de anomalías.\n",
    "\n",
    "* Si las probabilidades predichas no están calibradas correctamente, pueden surgir problemas como la sobreestimación o la subestimación de la probabilidad de ocurrencia de un evento. Por ejemplo, si un modelo de clasificación binaria predice una probabilidad del 90% de que un evento ocurra, pero en realidad ocurre solo el 50% de las veces, el modelo está sobrestimando la probabilidad."
   ]
  },
  {
   "cell_type": "code",
   "execution_count": 22,
   "metadata": {},
   "outputs": [],
   "source": [
    "from sklearn.calibration import CalibratedClassifierCV\n",
    "\n",
    "calibrated_model = CalibratedClassifierCV(model, cv=skfold, method='isotonic', n_jobs=-1)\n",
    "calibrated_model.fit(X_val, y_val)\n",
    "calibrated_probs = calibrated_model.predict_proba(X_val)[:, 1]"
   ]
  },
  {
   "cell_type": "code",
   "execution_count": 23,
   "metadata": {},
   "outputs": [
    {
     "name": "stdout",
     "output_type": "stream",
     "text": [
      "ROC-AUC de CalibratedClassifierCV: 91.91%\n",
      "Brier Score de CalibratedClassifierCV: 9.79%\n"
     ]
    }
   ],
   "source": [
    "# Brier score del modelo calibrado\n",
    "print(f'ROC-AUC de {type(calibrated_model).__name__}: {100*roc_auc_score(y_val, calibrated_probs):0.2f}%')\n",
    "print(f'Brier Score de {type(calibrated_model).__name__}: {100*brier_score_loss(y_val, calibrated_probs):0.2f}%')"
   ]
  },
  {
   "cell_type": "markdown",
   "metadata": {},
   "source": [
    "### *Curva de Calibración*\n",
    "* La curva de calibración es una gráfica que muestra la relación entre las probabilidades predichas por el modelo y las frecuencias observadas de la clase positiva. Para crear la curva de calibración, se divide el conjunto de datos en un conjunto de entrenamiento y un conjunto de validación. Luego, el modelo se entrena en el conjunto de entrenamiento y se predice la probabilidad de la clase positiva en el conjunto de validación.\n",
    "\n",
    "    Después, se agrupan las predicciones en diferentes intervalos de probabilidad y se calcula la frecuencia observada de la clase positiva dentro de cada intervalo. La curva de calibración se traza utilizando estos intervalos y la probabilidad media dentro de cada intervalo.\n",
    "\n",
    "* Idealmente, si un modelo es completamente calibrado, la curva de calibración debería seguir una línea diagonal, lo que indica que las probabilidades predichas por el modelo se corresponden con las frecuencias observadas. Sin embargo, en la práctica, los modelos de clasificación suelen tener problemas de calibración, lo que puede resultar en una curva de calibración que no sigue una línea diagonal."
   ]
  },
  {
   "cell_type": "code",
   "execution_count": 24,
   "metadata": {},
   "outputs": [],
   "source": [
    "# Curva de calibración\n",
    "from sklearn.calibration import calibration_curve\n",
    "\n",
    "def plot_calibration_curve(y_true, probs, bins, model):\n",
    "\n",
    "    fraction_of_positives, mean_predicted_value = calibration_curve(y_true, probs, n_bins=bins, \n",
    "                                                                    strategy='uniform')\n",
    "    max_val = max(mean_predicted_value)\n",
    "    \n",
    "    fig, axes = plt.subplots(1, 2, figsize=(12, 5))\n",
    "    plt.subplot(1, 2, 1)\n",
    "    plt.plot(mean_predicted_value, fraction_of_positives, label=type(model).__name__, \n",
    "             c='limegreen')\n",
    "    plt.plot(np.linspace(0, max_val, bins), np.linspace(0, max_val, bins),\n",
    "             linestyle='--', color='crimson', label='Perfect calibration')\n",
    "    plt.xlabel('Probability Predictions')\n",
    "    plt.ylabel('Fraction of positive examples')\n",
    "    plt.title('Calibration Curve\\n')\n",
    "    plt.legend(loc='upper left')\n",
    "    plt.grid()\n",
    "\n",
    "    plt.subplot(1, 2, 2)\n",
    "    plt.hist(probs, range=(0, 1), bins=bins, density=False, stacked=True, alpha=0.3, \n",
    "             color='xkcd:dark cyan', edgecolor='white', lw=0.5)\n",
    "    plt.xlabel('Probability Predictions')\n",
    "    plt.ylabel('Fraction of examples')\n",
    "    plt.title('Density\\n')\n",
    "    plt.grid()\n",
    "    plt.tight_layout()\n"
   ]
  },
  {
   "cell_type": "markdown",
   "metadata": {},
   "source": [
    "### *Analizar*"
   ]
  },
  {
   "cell_type": "code",
   "execution_count": 25,
   "metadata": {},
   "outputs": [
    {
     "data": {
      "image/png": "[encoded data removed]",
      "text/plain": [
       "<Figure size 1200x500 with 2 Axes>"
      ]
     },
     "metadata": {},
     "output_type": "display_data"
    },
    {
     "data": {
      "image/png": "[encoded data removed]",
      "text/plain": [
       "<Figure size 1200x500 with 2 Axes>"
      ]
     },
     "metadata": {},
     "output_type": "display_data"
    }
   ],
   "source": [
    "# A nivel visual los resultados\n",
    "for modelo, probs in zip([model, calibrated_model], [y_pred, calibrated_probs]):\n",
    "    plot_calibration_curve(y_val, probs, bins=8, model=modelo)"
   ]
  },
  {
   "cell_type": "code",
   "execution_count": 26,
   "metadata": {},
   "outputs": [
    {
     "data": {
      "image/png": "[encoded data removed]",
      "text/plain": [
       "<Figure size 640x480 with 1 Axes>"
      ]
     },
     "metadata": {},
     "output_type": "display_data"
    }
   ],
   "source": [
    "# Resultados con el modelo calibrado\n",
    "roc_curve_plot(calibrated_model)"
   ]
  },
  {
   "cell_type": "code",
   "execution_count": 27,
   "metadata": {},
   "outputs": [
    {
     "name": "stdout",
     "output_type": "stream",
     "text": [
      "              precision    recall  f1-score   support\n",
      "\n",
      "           0       0.87      0.96      0.91       440\n",
      "           1       0.83      0.57      0.67       152\n",
      "\n",
      "    accuracy                           0.86       592\n",
      "   macro avg       0.85      0.76      0.79       592\n",
      "weighted avg       0.86      0.86      0.85       592\n",
      "\n"
     ]
    }
   ],
   "source": [
    "# Reporte de clasificación\n",
    "from sklearn.metrics import classification_report\n",
    "\n",
    "print(classification_report(y_val, calibrated_model.predict(X_val)))"
   ]
  },
  {
   "cell_type": "markdown",
   "metadata": {},
   "source": [
    "### *Predicciones*\n",
    "* Las predicciones finales de un modelo son las estimaciones o predicciones que hace el modelo sobre nuevos datos o datos no vistos previamente. Estas predicciones se generan una vez que el modelo ha sido entrenado con un conjunto de datos de entrenamiento y ha sido ajustado a los datos de validación y/o prueba para mejorar su precisión.\n",
    "\n",
    "* El objetivo de un modelo de Machine Learning es generalizar su capacidad para predecir nuevos datos, no solo ajustarse bien a los datos de entrenamiento. Por lo tanto, las predicciones finales son importantes ya que permiten evaluar la capacidad del modelo para generalizar y hacer predicciones precisas sobre nuevos datos.\n",
    "\n",
    "* En general, para generar predicciones finales, se proporciona al modelo un conjunto de datos de entrada y el modelo aplica sus algoritmos de aprendizaje para predecir la salida correspondiente. Por ejemplo, en un modelo de clasificación, se proporciona un conjunto de características y el modelo utiliza estas características para predecir la clase a la que pertenece el dato de entrada."
   ]
  },
  {
   "cell_type": "code",
   "execution_count": 28,
   "metadata": {},
   "outputs": [
    {
     "data": {
      "text/html": [
       "<div>\n",
       "<style scoped>\n",
       "    .dataframe tbody tr th:only-of-type {\n",
       "        vertical-align: middle;\n",
       "    }\n",
       "\n",
       "    .dataframe tbody tr th {\n",
       "        vertical-align: top;\n",
       "    }\n",
       "\n",
       "    .dataframe thead th {\n",
       "        text-align: right;\n",
       "    }\n",
       "</style>\n",
       "<table border=\"1\" class=\"dataframe\">\n",
       "  <thead>\n",
       "    <tr style=\"text-align: right;\">\n",
       "      <th></th>\n",
       "      <th>id</th>\n",
       "      <th>0</th>\n",
       "      <th>1</th>\n",
       "    </tr>\n",
       "  </thead>\n",
       "  <tbody>\n",
       "    <tr>\n",
       "      <th>0</th>\n",
       "      <td>98523068</td>\n",
       "      <td>1.00</td>\n",
       "      <td>0.00</td>\n",
       "    </tr>\n",
       "    <tr>\n",
       "      <th>1</th>\n",
       "      <td>300237898</td>\n",
       "      <td>0.81</td>\n",
       "      <td>0.19</td>\n",
       "    </tr>\n",
       "    <tr>\n",
       "      <th>2</th>\n",
       "      <td>943273308</td>\n",
       "      <td>0.31</td>\n",
       "      <td>0.69</td>\n",
       "    </tr>\n",
       "    <tr>\n",
       "      <th>3</th>\n",
       "      <td>951645809</td>\n",
       "      <td>0.58</td>\n",
       "      <td>0.42</td>\n",
       "    </tr>\n",
       "    <tr>\n",
       "      <th>4</th>\n",
       "      <td>963797516</td>\n",
       "      <td>0.52</td>\n",
       "      <td>0.48</td>\n",
       "    </tr>\n",
       "    <tr>\n",
       "      <th>...</th>\n",
       "      <td>...</td>\n",
       "      <td>...</td>\n",
       "      <td>...</td>\n",
       "    </tr>\n",
       "    <tr>\n",
       "      <th>95</th>\n",
       "      <td>9970518152</td>\n",
       "      <td>0.83</td>\n",
       "      <td>0.17</td>\n",
       "    </tr>\n",
       "    <tr>\n",
       "      <th>96</th>\n",
       "      <td>9971748725</td>\n",
       "      <td>1.00</td>\n",
       "      <td>0.00</td>\n",
       "    </tr>\n",
       "    <tr>\n",
       "      <th>97</th>\n",
       "      <td>9979565282</td>\n",
       "      <td>0.98</td>\n",
       "      <td>0.02</td>\n",
       "    </tr>\n",
       "    <tr>\n",
       "      <th>98</th>\n",
       "      <td>9979718478</td>\n",
       "      <td>0.57</td>\n",
       "      <td>0.43</td>\n",
       "    </tr>\n",
       "    <tr>\n",
       "      <th>99</th>\n",
       "      <td>9998668320</td>\n",
       "      <td>1.00</td>\n",
       "      <td>0.00</td>\n",
       "    </tr>\n",
       "  </tbody>\n",
       "</table>\n",
       "<p>100 rows × 3 columns</p>\n",
       "</div>"
      ],
      "text/plain": [
       "            id    0    1\n",
       "0     98523068 1.00 0.00\n",
       "1    300237898 0.81 0.19\n",
       "2    943273308 0.31 0.69\n",
       "3    951645809 0.58 0.42\n",
       "4    963797516 0.52 0.48\n",
       "..         ...  ...  ...\n",
       "95  9970518152 0.83 0.17\n",
       "96  9971748725 1.00 0.00\n",
       "97  9979565282 0.98 0.02\n",
       "98  9979718478 0.57 0.43\n",
       "99  9998668320 1.00 0.00\n",
       "\n",
       "[100 rows x 3 columns]"
      ]
     },
     "execution_count": 28,
     "metadata": {},
     "output_type": "execute_result"
    }
   ],
   "source": [
    "# Predicciones con el conjunto de test\n",
    "pred_final = calibrated_model.predict_proba(test)\n",
    "pred_final = pd.DataFrame(pred_final, columns=[0, 1], index=test.index)\n",
    "pred_final = pred_final.reset_index()\n",
    "pred_final"
   ]
  },
  {
   "cell_type": "markdown",
   "metadata": {},
   "source": [
    "### *Exportar*"
   ]
  },
  {
   "cell_type": "code",
   "execution_count": 29,
   "metadata": {},
   "outputs": [
    {
     "name": "stdout",
     "output_type": "stream",
     "text": [
      "¡Realizado exitosamente!\n"
     ]
    }
   ],
   "source": [
    "import os\n",
    "\n",
    "try:\n",
    "    # Obtener la ruta actual del directorio de trabajo\n",
    "    ruta_actual = os.getcwd()\n",
    "\n",
    "    # Obtener el directorio padre de la ruta actual\n",
    "    directorio_padre = os.path.dirname(ruta_actual)\n",
    "\n",
    "    # Concatenar el nombre de la carpeta \"datasets\" al directorio padre\n",
    "    ruta_datasets = os.path.join(directorio_padre, 'datasets')\n",
    "\n",
    "    # Concatenar el nombre de la carpeta \"resultados\" a la ruta \"ruta_datasets\"\n",
    "    path = os.path.join(ruta_datasets, 'resultados')\n",
    "\n",
    "    # Crear la carpeta \"resultados\" en la ruta \"path\". El argumento exist_ok=True le indica a Python que no genere un error si la carpeta ya existe\n",
    "    os.makedirs(path, exist_ok=True)\n",
    "\n",
    "    # Exportar los resultados\n",
    "    pred_final.to_csv(f'{path}\\predicciones.csv', index=False)\n",
    "    \n",
    "except Exception as e:\n",
    "        print(type(e).__name__)\n",
    "        \n",
    "finally:\n",
    "    print('¡Realizado exitosamente!')"
   ]
  },
  {
   "cell_type": "markdown",
   "metadata": {},
   "source": [
    "---\n",
    "---"
   ]
  }
 ],
 "metadata": {
  "kernelspec": {
   "display_name": "Python 3.10.8 ('lynn')",
   "language": "python",
   "name": "python3"
  },
  "language_info": {
   "codemirror_mode": {
    "name": "ipython",
    "version": 3
   },
   "file_extension": ".py",
   "mimetype": "text/x-python",
   "name": "python",
   "nbconvert_exporter": "python",
   "pygments_lexer": "ipython3",
   "version": "3.10.8"
  },
  "orig_nbformat": 4,
  "vscode": {
   "interpreter": {
    "hash": "a470933c878a889f9588dcec647d953ea2e0e8d4b8186010aa374b5caaa83858"
   }
  }
 },
 "nbformat": 4,
 "nbformat_minor": 2
}
